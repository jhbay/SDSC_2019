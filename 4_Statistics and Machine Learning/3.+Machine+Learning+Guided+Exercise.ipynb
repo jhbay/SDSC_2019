{
 "cells": [
  {
   "cell_type": "code",
   "execution_count": 1,
   "metadata": {
    "collapsed": false
   },
   "outputs": [
    {
     "data": {
      "text/html": [
       "\n",
       "    <div class=\"bk-root\">\n",
       "        <a href=\"http://bokeh.pydata.org\" target=\"_blank\" class=\"bk-logo bk-logo-small bk-logo-notebook\"></a>\n",
       "        <span id=\"17cf92f1-5b5e-4ae7-bdce-965dff55631c\">Loading BokehJS ...</span>\n",
       "    </div>"
      ]
     },
     "metadata": {},
     "output_type": "display_data"
    },
    {
     "data": {
      "application/javascript": [
       "\n",
       "(function(global) {\n",
       "  function now() {\n",
       "    return new Date();\n",
       "  }\n",
       "\n",
       "  var force = true;\n",
       "\n",
       "  if (typeof (window._bokeh_onload_callbacks) === \"undefined\" || force === true) {\n",
       "    window._bokeh_onload_callbacks = [];\n",
       "    window._bokeh_is_loading = undefined;\n",
       "  }\n",
       "\n",
       "\n",
       "  \n",
       "  if (typeof (window._bokeh_timeout) === \"undefined\" || force === true) {\n",
       "    window._bokeh_timeout = Date.now() + 5000;\n",
       "    window._bokeh_failed_load = false;\n",
       "  }\n",
       "\n",
       "  var NB_LOAD_WARNING = {'data': {'text/html':\n",
       "     \"<div style='background-color: #fdd'>\\n\"+\n",
       "     \"<p>\\n\"+\n",
       "     \"BokehJS does not appear to have successfully loaded. If loading BokehJS from CDN, this \\n\"+\n",
       "     \"may be due to a slow or bad network connection. Possible fixes:\\n\"+\n",
       "     \"</p>\\n\"+\n",
       "     \"<ul>\\n\"+\n",
       "     \"<li>re-rerun `output_notebook()` to attempt to load from CDN again, or</li>\\n\"+\n",
       "     \"<li>use INLINE resources instead, as so:</li>\\n\"+\n",
       "     \"</ul>\\n\"+\n",
       "     \"<code>\\n\"+\n",
       "     \"from bokeh.resources import INLINE\\n\"+\n",
       "     \"output_notebook(resources=INLINE)\\n\"+\n",
       "     \"</code>\\n\"+\n",
       "     \"</div>\"}};\n",
       "\n",
       "  function display_loaded() {\n",
       "    if (window.Bokeh !== undefined) {\n",
       "      document.getElementById(\"17cf92f1-5b5e-4ae7-bdce-965dff55631c\").textContent = \"BokehJS successfully loaded.\";\n",
       "    } else if (Date.now() < window._bokeh_timeout) {\n",
       "      setTimeout(display_loaded, 100)\n",
       "    }\n",
       "  }\n",
       "\n",
       "  function run_callbacks() {\n",
       "    window._bokeh_onload_callbacks.forEach(function(callback) { callback() });\n",
       "    delete window._bokeh_onload_callbacks\n",
       "    console.info(\"Bokeh: all callbacks have finished\");\n",
       "  }\n",
       "\n",
       "  function load_libs(js_urls, callback) {\n",
       "    window._bokeh_onload_callbacks.push(callback);\n",
       "    if (window._bokeh_is_loading > 0) {\n",
       "      console.log(\"Bokeh: BokehJS is being loaded, scheduling callback at\", now());\n",
       "      return null;\n",
       "    }\n",
       "    if (js_urls == null || js_urls.length === 0) {\n",
       "      run_callbacks();\n",
       "      return null;\n",
       "    }\n",
       "    console.log(\"Bokeh: BokehJS not loaded, scheduling load and callback at\", now());\n",
       "    window._bokeh_is_loading = js_urls.length;\n",
       "    for (var i = 0; i < js_urls.length; i++) {\n",
       "      var url = js_urls[i];\n",
       "      var s = document.createElement('script');\n",
       "      s.src = url;\n",
       "      s.async = false;\n",
       "      s.onreadystatechange = s.onload = function() {\n",
       "        window._bokeh_is_loading--;\n",
       "        if (window._bokeh_is_loading === 0) {\n",
       "          console.log(\"Bokeh: all BokehJS libraries loaded\");\n",
       "          run_callbacks()\n",
       "        }\n",
       "      };\n",
       "      s.onerror = function() {\n",
       "        console.warn(\"failed to load library \" + url);\n",
       "      };\n",
       "      console.log(\"Bokeh: injecting script tag for BokehJS library: \", url);\n",
       "      document.getElementsByTagName(\"head\")[0].appendChild(s);\n",
       "    }\n",
       "  };var element = document.getElementById(\"17cf92f1-5b5e-4ae7-bdce-965dff55631c\");\n",
       "  if (element == null) {\n",
       "    console.log(\"Bokeh: ERROR: autoload.js configured with elementid '17cf92f1-5b5e-4ae7-bdce-965dff55631c' but no matching script tag was found. \")\n",
       "    return false;\n",
       "  }\n",
       "\n",
       "  var js_urls = [\"https://cdn.pydata.org/bokeh/release/bokeh-0.12.4.min.js\", \"https://cdn.pydata.org/bokeh/release/bokeh-widgets-0.12.4.min.js\"];\n",
       "\n",
       "  var inline_js = [\n",
       "    function(Bokeh) {\n",
       "      Bokeh.set_log_level(\"info\");\n",
       "    },\n",
       "    \n",
       "    function(Bokeh) {\n",
       "      \n",
       "      document.getElementById(\"17cf92f1-5b5e-4ae7-bdce-965dff55631c\").textContent = \"BokehJS is loading...\";\n",
       "    },\n",
       "    function(Bokeh) {\n",
       "      console.log(\"Bokeh: injecting CSS: https://cdn.pydata.org/bokeh/release/bokeh-0.12.4.min.css\");\n",
       "      Bokeh.embed.inject_css(\"https://cdn.pydata.org/bokeh/release/bokeh-0.12.4.min.css\");\n",
       "      console.log(\"Bokeh: injecting CSS: https://cdn.pydata.org/bokeh/release/bokeh-widgets-0.12.4.min.css\");\n",
       "      Bokeh.embed.inject_css(\"https://cdn.pydata.org/bokeh/release/bokeh-widgets-0.12.4.min.css\");\n",
       "    }\n",
       "  ];\n",
       "\n",
       "  function run_inline_js() {\n",
       "    \n",
       "    if ((window.Bokeh !== undefined) || (force === true)) {\n",
       "      for (var i = 0; i < inline_js.length; i++) {\n",
       "        inline_js[i](window.Bokeh);\n",
       "      }if (force === true) {\n",
       "        display_loaded();\n",
       "      }} else if (Date.now() < window._bokeh_timeout) {\n",
       "      setTimeout(run_inline_js, 100);\n",
       "    } else if (!window._bokeh_failed_load) {\n",
       "      console.log(\"Bokeh: BokehJS failed to load within specified timeout.\");\n",
       "      window._bokeh_failed_load = true;\n",
       "    } else if (force !== true) {\n",
       "      var cell = $(document.getElementById(\"17cf92f1-5b5e-4ae7-bdce-965dff55631c\")).parents('.cell').data().cell;\n",
       "      cell.output_area.append_execute_result(NB_LOAD_WARNING)\n",
       "    }\n",
       "\n",
       "  }\n",
       "\n",
       "  if (window._bokeh_is_loading === 0) {\n",
       "    console.log(\"Bokeh: BokehJS loaded, going straight to plotting\");\n",
       "    run_inline_js();\n",
       "  } else {\n",
       "    load_libs(js_urls, function() {\n",
       "      console.log(\"Bokeh: BokehJS plotting callback run at\", now());\n",
       "      run_inline_js();\n",
       "    });\n",
       "  }\n",
       "}(this));"
      ]
     },
     "metadata": {},
     "output_type": "display_data"
    }
   ],
   "source": [
    "import numpy as np\n",
    "import pandas as pd\n",
    "from bokeh.charts import Scatter\n",
    "from bokeh.plotting import Figure\n",
    "from bokeh.models import Span\n",
    "from bokeh.io import output_notebook, show\n",
    "output_notebook()\n",
    "\n",
    "from sklearn.model_selection import train_test_split\n",
    "from sklearn.linear_model import LinearRegression\n",
    "from sklearn.metrics import mean_squared_error\n"
   ]
  },
  {
   "cell_type": "markdown",
   "metadata": {},
   "source": [
    "# Linear Regression\n",
    "\n",
    "As discussed in the videos, one part of both statistics and machine learning is linear regression.  There are several Python libraries for this as well.  The one we'll be using in this course is the **scikit-learn [LinearRegression class](http://scikit-learn.org/stable/modules/generated/sklearn.linear_model.LinearRegression.html#sklearn.linear_model.LinearRegression)**, which uses the **ordinary least squares** method to calculate predictions.\n",
    "\n",
    "We will perform linear regression on one of the sample data sets shipped with Bokeh: the \"Iris\" dataset, which consists of data about flowers.  First, we import and make a copy of the `flowers` dataset, and display the fields associated with it to get an idea of the data:"
   ]
  },
  {
   "cell_type": "code",
   "execution_count": 2,
   "metadata": {
    "collapsed": false
   },
   "outputs": [
    {
     "data": {
      "text/html": [
       "<div>\n",
       "<table border=\"1\" class=\"dataframe\">\n",
       "  <thead>\n",
       "    <tr style=\"text-align: right;\">\n",
       "      <th></th>\n",
       "      <th>sepal_length</th>\n",
       "      <th>sepal_width</th>\n",
       "      <th>petal_length</th>\n",
       "      <th>petal_width</th>\n",
       "      <th>species</th>\n",
       "    </tr>\n",
       "  </thead>\n",
       "  <tbody>\n",
       "    <tr>\n",
       "      <th>0</th>\n",
       "      <td>5.1</td>\n",
       "      <td>3.5</td>\n",
       "      <td>1.4</td>\n",
       "      <td>0.2</td>\n",
       "      <td>setosa</td>\n",
       "    </tr>\n",
       "    <tr>\n",
       "      <th>1</th>\n",
       "      <td>4.9</td>\n",
       "      <td>3.0</td>\n",
       "      <td>1.4</td>\n",
       "      <td>0.2</td>\n",
       "      <td>setosa</td>\n",
       "    </tr>\n",
       "    <tr>\n",
       "      <th>2</th>\n",
       "      <td>4.7</td>\n",
       "      <td>3.2</td>\n",
       "      <td>1.3</td>\n",
       "      <td>0.2</td>\n",
       "      <td>setosa</td>\n",
       "    </tr>\n",
       "    <tr>\n",
       "      <th>3</th>\n",
       "      <td>4.6</td>\n",
       "      <td>3.1</td>\n",
       "      <td>1.5</td>\n",
       "      <td>0.2</td>\n",
       "      <td>setosa</td>\n",
       "    </tr>\n",
       "    <tr>\n",
       "      <th>4</th>\n",
       "      <td>5.0</td>\n",
       "      <td>3.6</td>\n",
       "      <td>1.4</td>\n",
       "      <td>0.2</td>\n",
       "      <td>setosa</td>\n",
       "    </tr>\n",
       "  </tbody>\n",
       "</table>\n",
       "</div>"
      ],
      "text/plain": [
       "   sepal_length  sepal_width  petal_length  petal_width species\n",
       "0           5.1          3.5           1.4          0.2  setosa\n",
       "1           4.9          3.0           1.4          0.2  setosa\n",
       "2           4.7          3.2           1.3          0.2  setosa\n",
       "3           4.6          3.1           1.5          0.2  setosa\n",
       "4           5.0          3.6           1.4          0.2  setosa"
      ]
     },
     "execution_count": 2,
     "metadata": {},
     "output_type": "execute_result"
    }
   ],
   "source": [
    "# Creating a DataFrame using the sample data provided by Bokeh\n",
    "from bokeh.sampledata.iris import flowers\n",
    "flowers_data = flowers\n",
    "\n",
    "# Displaying first few rows of data\n",
    "flowers_data.head()"
   ]
  },
  {
   "cell_type": "markdown",
   "metadata": {},
   "source": [
    "We are going to attempt to see **what features are best used** to calculate the [sepal](https://en.wikipedia.org/wiki/Sepal).  We start by creating an instance of the `LinearRegression` class"
   ]
  },
  {
   "cell_type": "code",
   "execution_count": 3,
   "metadata": {
    "collapsed": true
   },
   "outputs": [],
   "source": [
    "# lm is an instance of the LinearRegression class\n",
    "lm = LinearRegression()"
   ]
  },
  {
   "cell_type": "markdown",
   "metadata": {},
   "source": [
    "## Fitting the Model\n",
    "\n",
    "We are going to begin by creating a model using the petal length (as the **predictor variable**) to calculate the sepal length (the **response** variable).\n",
    "\n",
    "We need some X and y values, which will be used to call the **`fit`** function.  Create a variable X for predictor variables, and a variable y for the associated response variable.  These will be data frames taken from the `flowers_data` variable."
   ]
  },
  {
   "cell_type": "code",
   "execution_count": 4,
   "metadata": {
    "collapsed": false
   },
   "outputs": [],
   "source": [
    "X = flowers_data[['petal_length']]\n",
    "y = flowers_data['sepal_length']"
   ]
  },
  {
   "cell_type": "markdown",
   "metadata": {},
   "source": [
    "We now use the Bokeh `Figure` class to illustrate the distribution of this predictor:\n",
    "\n",
    "Follow this link to find out more about [Bokeh.plotting](http://bokeh.pydata.org/en/0.11.0/docs/reference/plotting.html)."
   ]
  },
  {
   "cell_type": "code",
   "execution_count": 5,
   "metadata": {
    "collapsed": false
   },
   "outputs": [
    {
     "data": {
      "text/html": [
       "\n",
       "\n",
       "    <div class=\"bk-root\">\n",
       "        <div class=\"bk-plotdiv\" id=\"ef8694d1-1f2a-450e-adae-3b90e2e1bbe5\"></div>\n",
       "    </div>\n",
       "<script type=\"text/javascript\">\n",
       "  \n",
       "  (function(global) {\n",
       "    function now() {\n",
       "      return new Date();\n",
       "    }\n",
       "  \n",
       "    var force = false;\n",
       "  \n",
       "    if (typeof (window._bokeh_onload_callbacks) === \"undefined\" || force === true) {\n",
       "      window._bokeh_onload_callbacks = [];\n",
       "      window._bokeh_is_loading = undefined;\n",
       "    }\n",
       "  \n",
       "  \n",
       "    \n",
       "    if (typeof (window._bokeh_timeout) === \"undefined\" || force === true) {\n",
       "      window._bokeh_timeout = Date.now() + 0;\n",
       "      window._bokeh_failed_load = false;\n",
       "    }\n",
       "  \n",
       "    var NB_LOAD_WARNING = {'data': {'text/html':\n",
       "       \"<div style='background-color: #fdd'>\\n\"+\n",
       "       \"<p>\\n\"+\n",
       "       \"BokehJS does not appear to have successfully loaded. If loading BokehJS from CDN, this \\n\"+\n",
       "       \"may be due to a slow or bad network connection. Possible fixes:\\n\"+\n",
       "       \"</p>\\n\"+\n",
       "       \"<ul>\\n\"+\n",
       "       \"<li>re-rerun `output_notebook()` to attempt to load from CDN again, or</li>\\n\"+\n",
       "       \"<li>use INLINE resources instead, as so:</li>\\n\"+\n",
       "       \"</ul>\\n\"+\n",
       "       \"<code>\\n\"+\n",
       "       \"from bokeh.resources import INLINE\\n\"+\n",
       "       \"output_notebook(resources=INLINE)\\n\"+\n",
       "       \"</code>\\n\"+\n",
       "       \"</div>\"}};\n",
       "  \n",
       "    function display_loaded() {\n",
       "      if (window.Bokeh !== undefined) {\n",
       "        document.getElementById(\"ef8694d1-1f2a-450e-adae-3b90e2e1bbe5\").textContent = \"BokehJS successfully loaded.\";\n",
       "      } else if (Date.now() < window._bokeh_timeout) {\n",
       "        setTimeout(display_loaded, 100)\n",
       "      }\n",
       "    }\n",
       "  \n",
       "    function run_callbacks() {\n",
       "      window._bokeh_onload_callbacks.forEach(function(callback) { callback() });\n",
       "      delete window._bokeh_onload_callbacks\n",
       "      console.info(\"Bokeh: all callbacks have finished\");\n",
       "    }\n",
       "  \n",
       "    function load_libs(js_urls, callback) {\n",
       "      window._bokeh_onload_callbacks.push(callback);\n",
       "      if (window._bokeh_is_loading > 0) {\n",
       "        console.log(\"Bokeh: BokehJS is being loaded, scheduling callback at\", now());\n",
       "        return null;\n",
       "      }\n",
       "      if (js_urls == null || js_urls.length === 0) {\n",
       "        run_callbacks();\n",
       "        return null;\n",
       "      }\n",
       "      console.log(\"Bokeh: BokehJS not loaded, scheduling load and callback at\", now());\n",
       "      window._bokeh_is_loading = js_urls.length;\n",
       "      for (var i = 0; i < js_urls.length; i++) {\n",
       "        var url = js_urls[i];\n",
       "        var s = document.createElement('script');\n",
       "        s.src = url;\n",
       "        s.async = false;\n",
       "        s.onreadystatechange = s.onload = function() {\n",
       "          window._bokeh_is_loading--;\n",
       "          if (window._bokeh_is_loading === 0) {\n",
       "            console.log(\"Bokeh: all BokehJS libraries loaded\");\n",
       "            run_callbacks()\n",
       "          }\n",
       "        };\n",
       "        s.onerror = function() {\n",
       "          console.warn(\"failed to load library \" + url);\n",
       "        };\n",
       "        console.log(\"Bokeh: injecting script tag for BokehJS library: \", url);\n",
       "        document.getElementsByTagName(\"head\")[0].appendChild(s);\n",
       "      }\n",
       "    };var element = document.getElementById(\"ef8694d1-1f2a-450e-adae-3b90e2e1bbe5\");\n",
       "    if (element == null) {\n",
       "      console.log(\"Bokeh: ERROR: autoload.js configured with elementid 'ef8694d1-1f2a-450e-adae-3b90e2e1bbe5' but no matching script tag was found. \")\n",
       "      return false;\n",
       "    }\n",
       "  \n",
       "    var js_urls = [];\n",
       "  \n",
       "    var inline_js = [\n",
       "      function(Bokeh) {\n",
       "        (function() {\n",
       "          var fn = function() {\n",
       "            var docs_json = {\"6344aa0f-6767-4976-9aa9-236d737f78fe\":{\"roots\":{\"references\":[{\"attributes\":{\"plot\":{\"id\":\"43782cd5-92b9-4045-8a05-c0c1d211bfb0\",\"subtype\":\"Figure\",\"type\":\"Plot\"}},\"id\":\"22c2e966-ba3f-4787-9c49-db5abe143092\",\"type\":\"ResetTool\"},{\"attributes\":{\"plot\":{\"id\":\"43782cd5-92b9-4045-8a05-c0c1d211bfb0\",\"subtype\":\"Figure\",\"type\":\"Plot\"},\"ticker\":{\"id\":\"46ffbccc-f964-4ce5-bc9a-37950f91708d\",\"type\":\"BasicTicker\"}},\"id\":\"ddd1b91c-4afb-4687-b65f-110ca7c1c41a\",\"type\":\"Grid\"},{\"attributes\":{\"dimension\":1,\"plot\":{\"id\":\"43782cd5-92b9-4045-8a05-c0c1d211bfb0\",\"subtype\":\"Figure\",\"type\":\"Plot\"},\"ticker\":{\"id\":\"d2b45547-7c82-457e-8e13-a5087a0f6ab6\",\"type\":\"BasicTicker\"}},\"id\":\"47af54b1-5b6d-4051-963e-1fe9f08680c7\",\"type\":\"Grid\"},{\"attributes\":{\"callback\":null,\"column_names\":[\"x\",\"y\"],\"data\":{\"x\":{\"__ndarray__\":\"ZmZmZmZm9j9mZmZmZmb2P83MzMzMzPQ/AAAAAAAA+D9mZmZmZmb2PzMzMzMzM/s/ZmZmZmZm9j8AAAAAAAD4P2ZmZmZmZvY/AAAAAAAA+D8AAAAAAAD4P5qZmZmZmfk/ZmZmZmZm9j+amZmZmZnxPzMzMzMzM/M/AAAAAAAA+D/NzMzMzMz0P2ZmZmZmZvY/MzMzMzMz+z8AAAAAAAD4PzMzMzMzM/s/AAAAAAAA+D8AAAAAAADwPzMzMzMzM/s/ZmZmZmZm/j+amZmZmZn5P5qZmZmZmfk/AAAAAAAA+D9mZmZmZmb2P5qZmZmZmfk/mpmZmZmZ+T8AAAAAAAD4PwAAAAAAAPg/ZmZmZmZm9j8AAAAAAAD4PzMzMzMzM/M/zczMzMzM9D9mZmZmZmb2P83MzMzMzPQ/AAAAAAAA+D/NzMzMzMz0P83MzMzMzPQ/zczMzMzM9D+amZmZmZn5P2ZmZmZmZv4/ZmZmZmZm9j+amZmZmZn5P2ZmZmZmZvY/AAAAAAAA+D9mZmZmZmb2P83MzMzMzBJAAAAAAAAAEkCamZmZmZkTQAAAAAAAABBAZmZmZmZmEkAAAAAAAAASQM3MzMzMzBJAZmZmZmZmCkBmZmZmZmYSQDMzMzMzMw9AAAAAAAAADEDNzMzMzMwQQAAAAAAAABBAzczMzMzMEkDNzMzMzMwMQJqZmZmZmRFAAAAAAAAAEkBmZmZmZmYQQAAAAAAAABJAMzMzMzMzD0AzMzMzMzMTQAAAAAAAABBAmpmZmZmZE0DNzMzMzMwSQDMzMzMzMxFAmpmZmZmZEUAzMzMzMzMTQAAAAAAAABRAAAAAAAAAEkAAAAAAAAAMQGZmZmZmZg5AmpmZmZmZDUAzMzMzMzMPQGZmZmZmZhRAAAAAAAAAEkAAAAAAAAASQM3MzMzMzBJAmpmZmZmZEUBmZmZmZmYQQAAAAAAAABBAmpmZmZmZEUBmZmZmZmYSQAAAAAAAABBAZmZmZmZmCkDNzMzMzMwQQM3MzMzMzBBAzczMzMzMEEAzMzMzMzMRQAAAAAAAAAhAZmZmZmZmEEAAAAAAAAAYQGZmZmZmZhRAmpmZmZmZF0BmZmZmZmYWQDMzMzMzMxdAZmZmZmZmGkAAAAAAAAASQDMzMzMzMxlAMzMzMzMzF0BmZmZmZmYYQGZmZmZmZhRAMzMzMzMzFUAAAAAAAAAWQAAAAAAAABRAZmZmZmZmFEAzMzMzMzMVQAAAAAAAABZAzczMzMzMGkCamZmZmZkbQAAAAAAAABRAzczMzMzMFkCamZmZmZkTQM3MzMzMzBpAmpmZmZmZE0DNzMzMzMwWQAAAAAAAABhAMzMzMzMzE0CamZmZmZkTQGZmZmZmZhZAMzMzMzMzF0BmZmZmZmYYQJqZmZmZmRlAZmZmZmZmFkBmZmZmZmYUQGZmZmZmZhZAZmZmZmZmGEBmZmZmZmYWQAAAAAAAABZAMzMzMzMzE0CamZmZmZkVQGZmZmZmZhZAZmZmZmZmFEBmZmZmZmYUQJqZmZmZmRdAzczMzMzMFkDNzMzMzMwUQAAAAAAAABRAzczMzMzMFECamZmZmZkVQGZmZmZmZhRA\",\"dtype\":\"float64\",\"shape\":[150]},\"y\":{\"__ndarray__\":\"ZmZmZmZmFECamZmZmZkTQM3MzMzMzBJAZmZmZmZmEkAAAAAAAAAUQJqZmZmZmRVAZmZmZmZmEkAAAAAAAAAUQJqZmZmZmRFAmpmZmZmZE0CamZmZmZkVQDMzMzMzMxNAMzMzMzMzE0AzMzMzMzMRQDMzMzMzMxdAzczMzMzMFkCamZmZmZkVQGZmZmZmZhRAzczMzMzMFkBmZmZmZmYUQJqZmZmZmRVAZmZmZmZmFEBmZmZmZmYSQGZmZmZmZhRAMzMzMzMzE0AAAAAAAAAUQAAAAAAAABRAzczMzMzMFEDNzMzMzMwUQM3MzMzMzBJAMzMzMzMzE0CamZmZmZkVQM3MzMzMzBRAAAAAAAAAFkCamZmZmZkTQAAAAAAAABRAAAAAAAAAFkCamZmZmZkTQJqZmZmZmRFAZmZmZmZmFEAAAAAAAAAUQAAAAAAAABJAmpmZmZmZEUAAAAAAAAAUQGZmZmZmZhRAMzMzMzMzE0BmZmZmZmYUQGZmZmZmZhJAMzMzMzMzFUAAAAAAAAAUQAAAAAAAABxAmpmZmZmZGUCamZmZmZkbQAAAAAAAABZAAAAAAAAAGkDNzMzMzMwWQDMzMzMzMxlAmpmZmZmZE0BmZmZmZmYaQM3MzMzMzBRAAAAAAAAAFECamZmZmZkXQAAAAAAAABhAZmZmZmZmGEBmZmZmZmYWQM3MzMzMzBpAZmZmZmZmFkAzMzMzMzMXQM3MzMzMzBhAZmZmZmZmFkCamZmZmZkXQGZmZmZmZhhAMzMzMzMzGUBmZmZmZmYYQJqZmZmZmRlAZmZmZmZmGkAzMzMzMzMbQM3MzMzMzBpAAAAAAAAAGEDNzMzMzMwWQAAAAAAAABZAAAAAAAAAFkAzMzMzMzMXQAAAAAAAABhAmpmZmZmZFUAAAAAAAAAYQM3MzMzMzBpAMzMzMzMzGUBmZmZmZmYWQAAAAAAAABZAAAAAAAAAFkBmZmZmZmYYQDMzMzMzMxdAAAAAAAAAFEBmZmZmZmYWQM3MzMzMzBZAzczMzMzMFkDNzMzMzMwYQGZmZmZmZhRAzczMzMzMFkAzMzMzMzMZQDMzMzMzMxdAZmZmZmZmHEAzMzMzMzMZQAAAAAAAABpAZmZmZmZmHkCamZmZmZkTQDMzMzMzMx1AzczMzMzMGkDNzMzMzMwcQAAAAAAAABpAmpmZmZmZGUAzMzMzMzMbQM3MzMzMzBZAMzMzMzMzF0CamZmZmZkZQAAAAAAAABpAzczMzMzMHkDNzMzMzMweQAAAAAAAABhAmpmZmZmZG0BmZmZmZmYWQM3MzMzMzB5AMzMzMzMzGUDNzMzMzMwaQM3MzMzMzBxAzczMzMzMGEBmZmZmZmYYQJqZmZmZmRlAzczMzMzMHECamZmZmZkdQJqZmZmZmR9AmpmZmZmZGUAzMzMzMzMZQGZmZmZmZhhAzczMzMzMHkAzMzMzMzMZQJqZmZmZmRlAAAAAAAAAGECamZmZmZkbQM3MzMzMzBpAmpmZmZmZG0AzMzMzMzMXQDMzMzMzMxtAzczMzMzMGkDNzMzMzMwaQDMzMzMzMxlAAAAAAAAAGkDNzMzMzMwYQJqZmZmZmRdA\",\"dtype\":\"float64\",\"shape\":[150]}}},\"id\":\"ad6e6eb3-b4cc-4049-8359-0c63bf55a27d\",\"type\":\"ColumnDataSource\"},{\"attributes\":{\"fill_color\":{\"value\":\"#1f77b4\"},\"line_color\":{\"value\":\"#1f77b4\"},\"x\":{\"field\":\"x\"},\"y\":{\"field\":\"y\"}},\"id\":\"5a48982a-2e19-464c-8ec2-b812b228cac6\",\"type\":\"Circle\"},{\"attributes\":{\"plot\":{\"id\":\"43782cd5-92b9-4045-8a05-c0c1d211bfb0\",\"subtype\":\"Figure\",\"type\":\"Plot\"}},\"id\":\"46640c71-7b9e-4a4a-b30f-54a44a811029\",\"type\":\"HelpTool\"},{\"attributes\":{\"plot\":{\"id\":\"43782cd5-92b9-4045-8a05-c0c1d211bfb0\",\"subtype\":\"Figure\",\"type\":\"Plot\"}},\"id\":\"c6f85a77-ed02-48fb-b9ad-426a994d062b\",\"type\":\"WheelZoomTool\"},{\"attributes\":{},\"id\":\"d9147294-c39b-4def-8497-1a52fb0fa704\",\"type\":\"BasicTickFormatter\"},{\"attributes\":{\"plot\":{\"id\":\"43782cd5-92b9-4045-8a05-c0c1d211bfb0\",\"subtype\":\"Figure\",\"type\":\"Plot\"}},\"id\":\"a961b520-bd90-43e4-9d4e-a22ba547af7d\",\"type\":\"PanTool\"},{\"attributes\":{},\"id\":\"46ffbccc-f964-4ce5-bc9a-37950f91708d\",\"type\":\"BasicTicker\"},{\"attributes\":{\"fill_alpha\":{\"value\":0.1},\"fill_color\":{\"value\":\"#1f77b4\"},\"line_alpha\":{\"value\":0.1},\"line_color\":{\"value\":\"#1f77b4\"},\"x\":{\"field\":\"x\"},\"y\":{\"field\":\"y\"}},\"id\":\"a963278b-eee7-46cb-bb83-d6ce37f05388\",\"type\":\"Circle\"},{\"attributes\":{},\"id\":\"256f5a70-3690-49e2-b80d-c3b5716b07ef\",\"type\":\"BasicTickFormatter\"},{\"attributes\":{},\"id\":\"07f1decf-3d97-462e-9cff-dce0cbc04f52\",\"type\":\"ToolEvents\"},{\"attributes\":{\"callback\":null},\"id\":\"669cdb6e-3b5f-42b4-be81-91e389f421d6\",\"type\":\"DataRange1d\"},{\"attributes\":{\"formatter\":{\"id\":\"d9147294-c39b-4def-8497-1a52fb0fa704\",\"type\":\"BasicTickFormatter\"},\"plot\":{\"id\":\"43782cd5-92b9-4045-8a05-c0c1d211bfb0\",\"subtype\":\"Figure\",\"type\":\"Plot\"},\"ticker\":{\"id\":\"d2b45547-7c82-457e-8e13-a5087a0f6ab6\",\"type\":\"BasicTicker\"}},\"id\":\"f02d97a7-0a84-4ef3-9137-886c623073f6\",\"type\":\"LinearAxis\"},{\"attributes\":{\"bottom_units\":\"screen\",\"fill_alpha\":{\"value\":0.5},\"fill_color\":{\"value\":\"lightgrey\"},\"left_units\":\"screen\",\"level\":\"overlay\",\"line_alpha\":{\"value\":1.0},\"line_color\":{\"value\":\"black\"},\"line_dash\":[4,4],\"line_width\":{\"value\":2},\"plot\":null,\"render_mode\":\"css\",\"right_units\":\"screen\",\"top_units\":\"screen\"},\"id\":\"ee218f2a-eb0f-40e0-b70f-a5e01318229a\",\"type\":\"BoxAnnotation\"},{\"attributes\":{\"formatter\":{\"id\":\"256f5a70-3690-49e2-b80d-c3b5716b07ef\",\"type\":\"BasicTickFormatter\"},\"plot\":{\"id\":\"43782cd5-92b9-4045-8a05-c0c1d211bfb0\",\"subtype\":\"Figure\",\"type\":\"Plot\"},\"ticker\":{\"id\":\"46ffbccc-f964-4ce5-bc9a-37950f91708d\",\"type\":\"BasicTicker\"}},\"id\":\"0f494ec4-7c83-4360-8172-5fe8e7a6fe93\",\"type\":\"LinearAxis\"},{\"attributes\":{\"data_source\":{\"id\":\"ad6e6eb3-b4cc-4049-8359-0c63bf55a27d\",\"type\":\"ColumnDataSource\"},\"glyph\":{\"id\":\"5a48982a-2e19-464c-8ec2-b812b228cac6\",\"type\":\"Circle\"},\"hover_glyph\":null,\"nonselection_glyph\":{\"id\":\"a963278b-eee7-46cb-bb83-d6ce37f05388\",\"type\":\"Circle\"},\"selection_glyph\":null},\"id\":\"92e66c90-ea9c-4c9b-a98c-91f23f343eb7\",\"type\":\"GlyphRenderer\"},{\"attributes\":{\"callback\":null},\"id\":\"5761f237-98e7-4251-aefc-fbab3a4d242d\",\"type\":\"DataRange1d\"},{\"attributes\":{},\"id\":\"d2b45547-7c82-457e-8e13-a5087a0f6ab6\",\"type\":\"BasicTicker\"},{\"attributes\":{\"active_drag\":\"auto\",\"active_scroll\":\"auto\",\"active_tap\":\"auto\",\"tools\":[{\"id\":\"a961b520-bd90-43e4-9d4e-a22ba547af7d\",\"type\":\"PanTool\"},{\"id\":\"c6f85a77-ed02-48fb-b9ad-426a994d062b\",\"type\":\"WheelZoomTool\"},{\"id\":\"d11ddb29-452f-43b6-a154-459613821d7e\",\"type\":\"BoxZoomTool\"},{\"id\":\"2caaaf2f-3bc7-4c95-b746-b942217d8988\",\"type\":\"SaveTool\"},{\"id\":\"22c2e966-ba3f-4787-9c49-db5abe143092\",\"type\":\"ResetTool\"},{\"id\":\"46640c71-7b9e-4a4a-b30f-54a44a811029\",\"type\":\"HelpTool\"}]},\"id\":\"64c0bbe1-4cc9-46d8-a36c-4e10f6c428a0\",\"type\":\"Toolbar\"},{\"attributes\":{\"plot\":null,\"text\":\"\"},\"id\":\"9f1effca-2c1e-437f-97cf-5aa07206bd44\",\"type\":\"Title\"},{\"attributes\":{\"below\":[{\"id\":\"0f494ec4-7c83-4360-8172-5fe8e7a6fe93\",\"type\":\"LinearAxis\"}],\"left\":[{\"id\":\"f02d97a7-0a84-4ef3-9137-886c623073f6\",\"type\":\"LinearAxis\"}],\"renderers\":[{\"id\":\"0f494ec4-7c83-4360-8172-5fe8e7a6fe93\",\"type\":\"LinearAxis\"},{\"id\":\"ddd1b91c-4afb-4687-b65f-110ca7c1c41a\",\"type\":\"Grid\"},{\"id\":\"f02d97a7-0a84-4ef3-9137-886c623073f6\",\"type\":\"LinearAxis\"},{\"id\":\"47af54b1-5b6d-4051-963e-1fe9f08680c7\",\"type\":\"Grid\"},{\"id\":\"ee218f2a-eb0f-40e0-b70f-a5e01318229a\",\"type\":\"BoxAnnotation\"},{\"id\":\"92e66c90-ea9c-4c9b-a98c-91f23f343eb7\",\"type\":\"GlyphRenderer\"}],\"title\":{\"id\":\"9f1effca-2c1e-437f-97cf-5aa07206bd44\",\"type\":\"Title\"},\"tool_events\":{\"id\":\"07f1decf-3d97-462e-9cff-dce0cbc04f52\",\"type\":\"ToolEvents\"},\"toolbar\":{\"id\":\"64c0bbe1-4cc9-46d8-a36c-4e10f6c428a0\",\"type\":\"Toolbar\"},\"x_range\":{\"id\":\"5761f237-98e7-4251-aefc-fbab3a4d242d\",\"type\":\"DataRange1d\"},\"y_range\":{\"id\":\"669cdb6e-3b5f-42b4-be81-91e389f421d6\",\"type\":\"DataRange1d\"}},\"id\":\"43782cd5-92b9-4045-8a05-c0c1d211bfb0\",\"subtype\":\"Figure\",\"type\":\"Plot\"},{\"attributes\":{\"plot\":{\"id\":\"43782cd5-92b9-4045-8a05-c0c1d211bfb0\",\"subtype\":\"Figure\",\"type\":\"Plot\"}},\"id\":\"2caaaf2f-3bc7-4c95-b746-b942217d8988\",\"type\":\"SaveTool\"},{\"attributes\":{\"overlay\":{\"id\":\"ee218f2a-eb0f-40e0-b70f-a5e01318229a\",\"type\":\"BoxAnnotation\"},\"plot\":{\"id\":\"43782cd5-92b9-4045-8a05-c0c1d211bfb0\",\"subtype\":\"Figure\",\"type\":\"Plot\"}},\"id\":\"d11ddb29-452f-43b6-a154-459613821d7e\",\"type\":\"BoxZoomTool\"}],\"root_ids\":[\"43782cd5-92b9-4045-8a05-c0c1d211bfb0\"]},\"title\":\"Bokeh Application\",\"version\":\"0.12.4\"}};\n",
       "            var render_items = [{\"docid\":\"6344aa0f-6767-4976-9aa9-236d737f78fe\",\"elementid\":\"ef8694d1-1f2a-450e-adae-3b90e2e1bbe5\",\"modelid\":\"43782cd5-92b9-4045-8a05-c0c1d211bfb0\"}];\n",
       "            \n",
       "            Bokeh.embed.embed_items(docs_json, render_items);\n",
       "          };\n",
       "          if (document.readyState != \"loading\") fn();\n",
       "          else document.addEventListener(\"DOMContentLoaded\", fn);\n",
       "        })();\n",
       "      },\n",
       "      function(Bokeh) {\n",
       "      }\n",
       "    ];\n",
       "  \n",
       "    function run_inline_js() {\n",
       "      \n",
       "      if ((window.Bokeh !== undefined) || (force === true)) {\n",
       "        for (var i = 0; i < inline_js.length; i++) {\n",
       "          inline_js[i](window.Bokeh);\n",
       "        }if (force === true) {\n",
       "          display_loaded();\n",
       "        }} else if (Date.now() < window._bokeh_timeout) {\n",
       "        setTimeout(run_inline_js, 100);\n",
       "      } else if (!window._bokeh_failed_load) {\n",
       "        console.log(\"Bokeh: BokehJS failed to load within specified timeout.\");\n",
       "        window._bokeh_failed_load = true;\n",
       "      } else if (force !== true) {\n",
       "        var cell = $(document.getElementById(\"ef8694d1-1f2a-450e-adae-3b90e2e1bbe5\")).parents('.cell').data().cell;\n",
       "        cell.output_area.append_execute_result(NB_LOAD_WARNING)\n",
       "      }\n",
       "  \n",
       "    }\n",
       "  \n",
       "    if (window._bokeh_is_loading === 0) {\n",
       "      console.log(\"Bokeh: BokehJS loaded, going straight to plotting\");\n",
       "      run_inline_js();\n",
       "    } else {\n",
       "      load_libs(js_urls, function() {\n",
       "        console.log(\"Bokeh: BokehJS plotting callback run at\", now());\n",
       "        run_inline_js();\n",
       "      });\n",
       "    }\n",
       "  }(this));\n",
       "</script>"
      ]
     },
     "metadata": {},
     "output_type": "display_data"
    }
   ],
   "source": [
    "fig = Figure()\n",
    "fig.circle(X['petal_length'],y)\n",
    "\n",
    "show(fig)"
   ]
  },
  {
   "cell_type": "markdown",
   "metadata": {},
   "source": [
    "Having prepared the data, we can now fit the data to a linear regression model, and then begin analysis:"
   ]
  },
  {
   "cell_type": "code",
   "execution_count": 6,
   "metadata": {
    "collapsed": false
   },
   "outputs": [
    {
     "name": "stdout",
     "output_type": "stream",
     "text": [
      "{'copy_X': True, 'normalize': False, '_residues': 24.525033765831754, 'fit_intercept': True, 'coef_': array([ 0.40892228]), 'singular_': array([ 21.54821106]), 'n_jobs': 1, 'rank_': 1, 'intercept_': 4.3066034150475794}\n"
     ]
    }
   ],
   "source": [
    "# Call the fit function on the data\n",
    "lm = LinearRegression()\n",
    "lm.fit(X, y)\n",
    "print(vars(lm))"
   ]
  },
  {
   "cell_type": "markdown",
   "metadata": {},
   "source": [
    "Having fitted the model to the data, we can establish what the regression line by using the `coef_` and `intercept_` values, which we can use in order to generate an equation in the format `y = mx + c`:"
   ]
  },
  {
   "cell_type": "code",
   "execution_count": 7,
   "metadata": {
    "collapsed": false
   },
   "outputs": [
    {
     "name": "stdout",
     "output_type": "stream",
     "text": [
      "y = 0.408922x + 4.306603\n"
     ]
    }
   ],
   "source": [
    "m = lm.coef_[0]\n",
    "c = lm.intercept_\n",
    "print('y = %fx + %f' % (m,c))\n"
   ]
  },
  {
   "cell_type": "markdown",
   "metadata": {},
   "source": [
    "We don't necessarily need to use the equation, however, there is additionally a useful **`predict`** function which allows us to enter one or more numbers for which it will predict the outcome."
   ]
  },
  {
   "cell_type": "code",
   "execution_count": 8,
   "metadata": {
    "collapsed": false
   },
   "outputs": [
    {
     "name": "stdout",
     "output_type": "stream",
     "text": [
      "[ 4.30660342]\n"
     ]
    },
    {
     "name": "stderr",
     "output_type": "stream",
     "text": [
      "/opt/conda/lib/python3.5/site-packages/sklearn/utils/validation.py:395: DeprecationWarning: Passing 1d arrays as data is deprecated in 0.17 and will raise ValueError in 0.19. Reshape your data either using X.reshape(-1, 1) if your data has a single feature or X.reshape(1, -1) if it contains a single sample.\n",
      "  DeprecationWarning)\n"
     ]
    },
    {
     "data": {
      "text/plain": [
       "array([ 5.53337025,  6.3512148 ,  5.94229252])"
      ]
     },
     "execution_count": 8,
     "metadata": {},
     "output_type": "execute_result"
    }
   ],
   "source": [
    "var = 0\n",
    "\n",
    "print(lm.predict([var]))\n",
    "\n",
    "# Note that like with the earlier Series, the `predict` function is prepared for the fact that each value\n",
    "# to predict could have multiple features.  So it accepts a list of lists\n",
    "# This will give a deprecation warning\n",
    "var = [[3], [5], [4]]\n",
    "lm.predict(var)\n",
    "\n",
    "# if a warning message box appears this indicates a possible depracated code issue, don't worry - \n",
    "# you have not broken the internet!"
   ]
  },
  {
   "cell_type": "markdown",
   "metadata": {},
   "source": [
    "# Evaluation of a Model\n",
    "## Training and Testing Data\n",
    "In order to ensure that our model can cope with the whole of the dataset, we will split our data into a **training set** and a **testing set**, and **cross validate** the results.  We need to be careful that the ordering of our data is sufficiently **random** when doing this.  For example, if it was sorted by value, we would be training only on a specific type of value making our model less accurate against values outside that range.\n",
    "\n",
    "The function **['train_test_split'](http://scikit-learn.org/stable/modules/generated/sklearn.model_selection.train_test_split.html)** from the `sklearn.model_selection` module performs this task for us - both splitting the data, and ensuring that the ordering is sufficiently random.  It returns four values, we will assign each of those a value as the output of this function by declaring them on the same line as follows:"
   ]
  },
  {
   "cell_type": "code",
   "execution_count": 9,
   "metadata": {
    "collapsed": true
   },
   "outputs": [],
   "source": [
    "X_train, X_test, y_train, y_test = train_test_split(X, y, test_size=0.2)"
   ]
  },
  {
   "cell_type": "markdown",
   "metadata": {},
   "source": [
    "## Residual Analysis\n",
    "\n",
    "In order to ensure that our model is appropriate for the data, we first make an analysis of the residuals, i.e., the difference between the predicted value and the observed value.  If the data are randomly clustered around 0, then that is a sign the data are appropriate.  However, if there is a pattern in the data, then that suggests that there is some form of bias.\n",
    "\n",
    "We can use the `predict` method of the `LinearRegression` class to get the predicted values (which we'll use as the  `X` values), and we subtract the actual values from them, as follows:"
   ]
  },
  {
   "cell_type": "code",
   "execution_count": 10,
   "metadata": {
    "collapsed": false
   },
   "outputs": [
    {
     "data": {
      "text/html": [
       "\n",
       "\n",
       "    <div class=\"bk-root\">\n",
       "        <div class=\"bk-plotdiv\" id=\"b4f53e3c-0b14-4124-92eb-0560d5693b66\"></div>\n",
       "    </div>\n",
       "<script type=\"text/javascript\">\n",
       "  \n",
       "  (function(global) {\n",
       "    function now() {\n",
       "      return new Date();\n",
       "    }\n",
       "  \n",
       "    var force = false;\n",
       "  \n",
       "    if (typeof (window._bokeh_onload_callbacks) === \"undefined\" || force === true) {\n",
       "      window._bokeh_onload_callbacks = [];\n",
       "      window._bokeh_is_loading = undefined;\n",
       "    }\n",
       "  \n",
       "  \n",
       "    \n",
       "    if (typeof (window._bokeh_timeout) === \"undefined\" || force === true) {\n",
       "      window._bokeh_timeout = Date.now() + 0;\n",
       "      window._bokeh_failed_load = false;\n",
       "    }\n",
       "  \n",
       "    var NB_LOAD_WARNING = {'data': {'text/html':\n",
       "       \"<div style='background-color: #fdd'>\\n\"+\n",
       "       \"<p>\\n\"+\n",
       "       \"BokehJS does not appear to have successfully loaded. If loading BokehJS from CDN, this \\n\"+\n",
       "       \"may be due to a slow or bad network connection. Possible fixes:\\n\"+\n",
       "       \"</p>\\n\"+\n",
       "       \"<ul>\\n\"+\n",
       "       \"<li>re-rerun `output_notebook()` to attempt to load from CDN again, or</li>\\n\"+\n",
       "       \"<li>use INLINE resources instead, as so:</li>\\n\"+\n",
       "       \"</ul>\\n\"+\n",
       "       \"<code>\\n\"+\n",
       "       \"from bokeh.resources import INLINE\\n\"+\n",
       "       \"output_notebook(resources=INLINE)\\n\"+\n",
       "       \"</code>\\n\"+\n",
       "       \"</div>\"}};\n",
       "  \n",
       "    function display_loaded() {\n",
       "      if (window.Bokeh !== undefined) {\n",
       "        document.getElementById(\"b4f53e3c-0b14-4124-92eb-0560d5693b66\").textContent = \"BokehJS successfully loaded.\";\n",
       "      } else if (Date.now() < window._bokeh_timeout) {\n",
       "        setTimeout(display_loaded, 100)\n",
       "      }\n",
       "    }\n",
       "  \n",
       "    function run_callbacks() {\n",
       "      window._bokeh_onload_callbacks.forEach(function(callback) { callback() });\n",
       "      delete window._bokeh_onload_callbacks\n",
       "      console.info(\"Bokeh: all callbacks have finished\");\n",
       "    }\n",
       "  \n",
       "    function load_libs(js_urls, callback) {\n",
       "      window._bokeh_onload_callbacks.push(callback);\n",
       "      if (window._bokeh_is_loading > 0) {\n",
       "        console.log(\"Bokeh: BokehJS is being loaded, scheduling callback at\", now());\n",
       "        return null;\n",
       "      }\n",
       "      if (js_urls == null || js_urls.length === 0) {\n",
       "        run_callbacks();\n",
       "        return null;\n",
       "      }\n",
       "      console.log(\"Bokeh: BokehJS not loaded, scheduling load and callback at\", now());\n",
       "      window._bokeh_is_loading = js_urls.length;\n",
       "      for (var i = 0; i < js_urls.length; i++) {\n",
       "        var url = js_urls[i];\n",
       "        var s = document.createElement('script');\n",
       "        s.src = url;\n",
       "        s.async = false;\n",
       "        s.onreadystatechange = s.onload = function() {\n",
       "          window._bokeh_is_loading--;\n",
       "          if (window._bokeh_is_loading === 0) {\n",
       "            console.log(\"Bokeh: all BokehJS libraries loaded\");\n",
       "            run_callbacks()\n",
       "          }\n",
       "        };\n",
       "        s.onerror = function() {\n",
       "          console.warn(\"failed to load library \" + url);\n",
       "        };\n",
       "        console.log(\"Bokeh: injecting script tag for BokehJS library: \", url);\n",
       "        document.getElementsByTagName(\"head\")[0].appendChild(s);\n",
       "      }\n",
       "    };var element = document.getElementById(\"b4f53e3c-0b14-4124-92eb-0560d5693b66\");\n",
       "    if (element == null) {\n",
       "      console.log(\"Bokeh: ERROR: autoload.js configured with elementid 'b4f53e3c-0b14-4124-92eb-0560d5693b66' but no matching script tag was found. \")\n",
       "      return false;\n",
       "    }\n",
       "  \n",
       "    var js_urls = [];\n",
       "  \n",
       "    var inline_js = [\n",
       "      function(Bokeh) {\n",
       "        (function() {\n",
       "          var fn = function() {\n",
       "            var docs_json = {\"2173c050-e247-49ec-95a9-6b796a952426\":{\"roots\":{\"references\":[{\"attributes\":{\"plot\":{\"id\":\"6e3cb7db-c916-4f62-9d6a-8249f90d2681\",\"subtype\":\"Figure\",\"type\":\"Plot\"}},\"id\":\"c6f0ffb2-51f2-4941-8753-16307218744b\",\"type\":\"PanTool\"},{\"attributes\":{\"overlay\":{\"id\":\"6349fcfd-5ef4-457e-a6cf-cb7c4b01f863\",\"type\":\"BoxAnnotation\"},\"plot\":{\"id\":\"6e3cb7db-c916-4f62-9d6a-8249f90d2681\",\"subtype\":\"Figure\",\"type\":\"Plot\"}},\"id\":\"d50fe600-f257-4798-ad46-92475b57fd28\",\"type\":\"BoxZoomTool\"},{\"attributes\":{\"line_color\":{\"value\":\"#1f77b4\"},\"x\":{\"field\":\"x\"},\"y\":{\"field\":\"y\"}},\"id\":\"1c32e33b-c9dd-493d-a14a-23fb69aac6d1\",\"type\":\"Line\"},{\"attributes\":{\"callback\":null,\"column_names\":[\"x\",\"y\"],\"data\":{\"x\":[4.7155256923987645,7.128167128770759],\"y\":[0,0]}},\"id\":\"4df83309-f36f-40e7-916f-7182cf92c65f\",\"type\":\"ColumnDataSource\"},{\"attributes\":{\"callback\":null},\"id\":\"584c4295-fe10-4c9b-a2e0-25b84d953654\",\"type\":\"DataRange1d\"},{\"attributes\":{\"callback\":null,\"column_names\":[\"x\",\"y\"],\"data\":{\"x\":{\"__ndarray__\":\"frotYDGEE0B+ui1gMYQTQMmYOrlRWhNANNwgBxGuE0B+ui1gMYQTQJ4fB1XQARRAfrotYDGEE0A03CAHEa4TQH66LWAxhBNANNwgBxGuE0A03CAHEa4TQOn9E67w1xNAfrotYDGEE0BfVVRrkgYTQBR3RxJyMBNANNwgBxGuE0DJmDq5UVoTQH66LWAxhBNAnh8HVdABFEA03CAHEa4TQJ4fB1XQARRANNwgBxGuE0CpM2HEstwSQJ4fB1XQARRACWPtoo9VFEDp/ROu8NcTQOn9E67w1xNANNwgBxGuE0B+ui1gMYQTQOn9E67w1xNA6f0TrvDXE0A03CAHEa4TQDTcIAcRrhNAfrotYDGEE0A03CAHEa4TQBR3RxJyMBNAyZg6uVFaE0B+ui1gMYQTQMmYOrlRWhNANNwgBxGuE0DJmDq5UVoTQMmYOrlRWhNAyZg6uVFaE0Dp/ROu8NcTQAlj7aKPVRRAfrotYDGEE0Dp/ROu8NcTQH66LWAxhBNANNwgBxGuE0B+ui1gMYQTQN4SheUF6hhAdM+el0aWGEBJVmszxT0ZQOkm31ToxBdAKfGRPibAGEB0z56XRpYYQN4SheUF6hhA9Do5xMqfFkAp8ZE+JsAYQDQF7K0ImxdAXn4fEorzFkBUasWipxgYQOkm31ToxBdA3hKF5QXqGEAUoBK5aR0XQL6tq/BmbBhAdM+el0aWGECeSNL7x+4XQHTPnpdGlhhANAXsrQibF0CUNHiM5RMZQOkm31ToxBdASVZrM8U9GUDeEoXlBeoYQAmMuEmHQhhAvq2r8GZsGECUNHiM5RMZQP53XtqkZxlAdM+el0aWGEBefh8SivMWQH7j+AYpcRdAycEFYElHF0A0BeytCJsXQLSZUYGEkRlAdM+el0aWGEB0z56XRpYYQN4SheUF6hhAvq2r8GZsGECeSNL7x+4XQOkm31ToxBdAvq2r8GZsGEAp8ZE+JsAYQOkm31ToxBdA9Do5xMqfFkBUasWipxgYQFRqxaKnGBhAVGrFoqcYGEAJjLhJh0IYQNTVX88rIhZAnkjS+8fuF0AUyd1fYQobQLSZUYGEkRlAXqfquIHgGkA+QhHE4mIaQKmF9xGithpAVJOQSZ8FHEB0z56XRpYYQDQut1QAiBtAqYX3EaK2GkDI6tAGQTQbQLSZUYGEkRlAHt03z0PlGUCJIB4dAzkaQP53XtqkZxlAtJlRgYSRGUAe3TfPQ+UZQIkgHh0DORpACbWD8H4vHEB0+Gk+PoMcQP53XtqkZxlA9GMEa8KMGkBJVmszxT0ZQAm1g/B+LxxASVZrM8U9GUD0YwRrwowaQBTJ3V9hChtAlDR4jOUTGUBJVmszxT0ZQD5CEcTiYhpAqYX3EaK2GkDI6tAGQTQbQOlPqvvfsRtAPkIRxOJiGkC0mVGBhJEZQD5CEcTiYhpAyOrQBkE0G0A+QhHE4mIaQIkgHh0DORpAlDR4jOUTGUDU/ip2Iw8aQD5CEcTiYhpAtJlRgYSRGUC0mVGBhJEZQF6n6riB4BpA9GMEa8KMGkBpu0QoZLsZQP53XtqkZxlAabtEKGS7GUDU/ip2Iw8aQLSZUYGEkRlA\",\"dtype\":\"float64\",\"shape\":[150]},\"y\":{\"__ndarray__\":\"AH0Vx6BGzL8AHN9rOWiVv4B/uY2dsME/4FynC6p61D+AYJH0p/O+v8CfJ0mUfNm/gEF1nK/c0T8A88g3vnu0v0AOQml8qd4/AJpCh213lD9g1osnibjev8BWGVyvl8Q/wNKhPos/tD/AIhKC8zXdP3zwroMEC/C/yIRfLd716L+IBvgCP/rhvwB9FcegRsy/eGktvuNX5r9ARrHoqwrHv8CfJ0mUfNm/QEax6KsKx7/AULN+F5O9PwCy0VeEJbm/YP2i+8Yl0j+ACwH2qAekv4ALAfaoB6S/kAm/Wrzr0b/wJPHJtonUv8ARcxQ+stA/wFYZXK+XxD9g1osnibjev5AJv1q869G/ECyS/nTe478AmkKHbXeUP4AdEbe98cm/uDkrNnIt5b8AHN9rOWiVv/DyD/qBC9w/QEax6KsKx7/g5qzYyLXEv5CMqZMbpdU/8PIP+oEL3D+ACwH2qAekvwBdA3nD1pC/wNKhPos/tD+gD00Kt87Bv4BBdZyv3NE/8G8lwSJS2L+AYJH0p/O+vxBp19PQr+i/YKKsHzA10L+IGnIxo97iv5Bu8k2FTtw/cO3gFpz9079wKiCtnJfcP0AViGtTS7K/0Ar9VIkx6D/QU0d9AmTavzjD+QjfceY/8PL7kFCc5z+ALvRKgsO/P4CLbJDVi62/AI/V4+9zwD/ANYdVauDGP3j4COEuA+O/cEjDiQF/4T9greITmXLHP4Cs/pYaQ6u/4OxZeCRK0z+gr+ktv6TXP6Dv5zDCL8S/ACxGcAAkhT8Aj9Xj73PAPxDZEP4kcdW/gIqrW/ef37/49Nc1bfrgv/BM5SZ/Uta/gO7Z89LIwj+AyFipol6jP+A3jm+QEtc/kBxcAJZ01D9AgDSuXvW5P0CbGRVIGNk/0K4p8Gfl5z+A7tnz0sjCP/Cee3RuLN6/oK7wUIjZyL+AI75WGYbYP5Bu8k2FTtw/8G1dhTdj4z/AsOIK9m+2P8B2fjWkNsI/oNfJIVb+5D/gPvDFEyTbP3DYiV+tvdQ/cNiJX6291D+AGIhisEjBv+D2lo9WvNs/EL1X8LIf0j8QXqnK4nLdPwg083CK8uI/gPC710pe2L+w8OAN+frSPyC18D5C1MY/kJiu5jgG479o1xT4s/LzP/BPwOcts9q/ACRH1boqlr9QIL5fvIjZvwCTmavfnru/AOGQZ43qsj9AVaLCAkbPv4hZjWzA1uQ/CDTzcIry4j8A4ZBnjeqyP4BEEI+Ogaw/IL5I4m7q5L/IohZzdEziv+B/56VNetY/YFpT6XLN0L8Yfydo9rrmPyC+SOJu6uS/ACxGcAAkhT9ANhpymAKwv5A78M62Jty/wPHZ6i/GsT9g/J2g2evKP4AU9U4lKck/IDmq1lWx4L+QdkWWxCrjv4hNeu/MPe+/gBT1TiUpyT9AoJmHU5S3P4C9rdrFx98/KBDfL17E7L+w8OAN+frSP+DdkHAw7cM/QEmDx1g+0T9grOk2YqfYv8Cj4i6Cerq/MP8/wqhA4L8INPNwivLiP0D1IpJerLS/QDYacpgCsL9AFoFIihbRv4BlopXTOKo/wCXR7vUmsb9wIOOVaiXUP6ABgHuuft8/\",\"dtype\":\"float64\",\"shape\":[150]}}},\"id\":\"6da5f7f4-fdec-4013-9bb6-de5c13545c5d\",\"type\":\"ColumnDataSource\"},{\"attributes\":{},\"id\":\"c3c03007-16b8-4329-93bf-70151e529f79\",\"type\":\"ToolEvents\"},{\"attributes\":{\"plot\":null,\"text\":\"\"},\"id\":\"658f49ab-2cac-43cc-923d-01234f8865a6\",\"type\":\"Title\"},{\"attributes\":{\"formatter\":{\"id\":\"22bd1731-33a9-4e0d-bb9d-a6c51059a163\",\"type\":\"BasicTickFormatter\"},\"plot\":{\"id\":\"6e3cb7db-c916-4f62-9d6a-8249f90d2681\",\"subtype\":\"Figure\",\"type\":\"Plot\"},\"ticker\":{\"id\":\"112834d8-515d-4c51-9fd3-c5d03ac13f8b\",\"type\":\"BasicTicker\"}},\"id\":\"4e1908e0-e338-4c98-aec8-8c7e777ec069\",\"type\":\"LinearAxis\"},{\"attributes\":{\"plot\":{\"id\":\"6e3cb7db-c916-4f62-9d6a-8249f90d2681\",\"subtype\":\"Figure\",\"type\":\"Plot\"},\"ticker\":{\"id\":\"112834d8-515d-4c51-9fd3-c5d03ac13f8b\",\"type\":\"BasicTicker\"}},\"id\":\"6fa42527-ee9c-4b5a-a3da-38b6136a2531\",\"type\":\"Grid\"},{\"attributes\":{\"active_drag\":\"auto\",\"active_scroll\":\"auto\",\"active_tap\":\"auto\",\"tools\":[{\"id\":\"c6f0ffb2-51f2-4941-8753-16307218744b\",\"type\":\"PanTool\"},{\"id\":\"919ee0fa-794a-4ed2-9f62-e4da7c498940\",\"type\":\"WheelZoomTool\"},{\"id\":\"d50fe600-f257-4798-ad46-92475b57fd28\",\"type\":\"BoxZoomTool\"},{\"id\":\"ce6e65cf-701b-4d68-9356-0ea83e422ec7\",\"type\":\"SaveTool\"},{\"id\":\"cfbd88e0-5cb5-4e80-9d31-b999ec5e0cc1\",\"type\":\"ResetTool\"},{\"id\":\"0eff43af-6420-4871-8e04-0b9206e57c65\",\"type\":\"HelpTool\"}]},\"id\":\"a4b83828-da22-4bcc-8303-35a23f6e5c08\",\"type\":\"Toolbar\"},{\"attributes\":{\"formatter\":{\"id\":\"20fdceab-f739-44f6-b6fa-6f01d5bd443b\",\"type\":\"BasicTickFormatter\"},\"plot\":{\"id\":\"6e3cb7db-c916-4f62-9d6a-8249f90d2681\",\"subtype\":\"Figure\",\"type\":\"Plot\"},\"ticker\":{\"id\":\"a9c244a8-5b59-4914-b193-3b454b57c3fb\",\"type\":\"BasicTicker\"}},\"id\":\"f7a5704e-8d9d-48d3-9d91-655d09acfd86\",\"type\":\"LinearAxis\"},{\"attributes\":{\"fill_alpha\":{\"value\":0.1},\"fill_color\":{\"value\":\"#1f77b4\"},\"line_alpha\":{\"value\":0.1},\"line_color\":{\"value\":\"#1f77b4\"},\"x\":{\"field\":\"x\"},\"y\":{\"field\":\"y\"}},\"id\":\"a7844313-16eb-4c3b-afcc-4d9a82b5ec3c\",\"type\":\"Circle\"},{\"attributes\":{\"plot\":{\"id\":\"6e3cb7db-c916-4f62-9d6a-8249f90d2681\",\"subtype\":\"Figure\",\"type\":\"Plot\"}},\"id\":\"919ee0fa-794a-4ed2-9f62-e4da7c498940\",\"type\":\"WheelZoomTool\"},{\"attributes\":{\"plot\":{\"id\":\"6e3cb7db-c916-4f62-9d6a-8249f90d2681\",\"subtype\":\"Figure\",\"type\":\"Plot\"}},\"id\":\"0eff43af-6420-4871-8e04-0b9206e57c65\",\"type\":\"HelpTool\"},{\"attributes\":{\"fill_color\":{\"value\":\"#1f77b4\"},\"line_color\":{\"value\":\"#1f77b4\"},\"x\":{\"field\":\"x\"},\"y\":{\"field\":\"y\"}},\"id\":\"46f13927-29ff-44ec-b101-319711c0bb02\",\"type\":\"Circle\"},{\"attributes\":{\"line_alpha\":{\"value\":0.1},\"line_color\":{\"value\":\"#1f77b4\"},\"x\":{\"field\":\"x\"},\"y\":{\"field\":\"y\"}},\"id\":\"30237dac-a449-4afe-93dc-53100cedfd1f\",\"type\":\"Line\"},{\"attributes\":{\"dimension\":1,\"plot\":{\"id\":\"6e3cb7db-c916-4f62-9d6a-8249f90d2681\",\"subtype\":\"Figure\",\"type\":\"Plot\"},\"ticker\":{\"id\":\"a9c244a8-5b59-4914-b193-3b454b57c3fb\",\"type\":\"BasicTicker\"}},\"id\":\"d20e1db9-ad03-4c47-ad81-a3643b095cc3\",\"type\":\"Grid\"},{\"attributes\":{},\"id\":\"a9c244a8-5b59-4914-b193-3b454b57c3fb\",\"type\":\"BasicTicker\"},{\"attributes\":{\"data_source\":{\"id\":\"4df83309-f36f-40e7-916f-7182cf92c65f\",\"type\":\"ColumnDataSource\"},\"glyph\":{\"id\":\"1c32e33b-c9dd-493d-a14a-23fb69aac6d1\",\"type\":\"Line\"},\"hover_glyph\":null,\"nonselection_glyph\":{\"id\":\"30237dac-a449-4afe-93dc-53100cedfd1f\",\"type\":\"Line\"},\"selection_glyph\":null},\"id\":\"b96b3a5d-8128-4b31-8c90-421970c797a7\",\"type\":\"GlyphRenderer\"},{\"attributes\":{\"bottom_units\":\"screen\",\"fill_alpha\":{\"value\":0.5},\"fill_color\":{\"value\":\"lightgrey\"},\"left_units\":\"screen\",\"level\":\"overlay\",\"line_alpha\":{\"value\":1.0},\"line_color\":{\"value\":\"black\"},\"line_dash\":[4,4],\"line_width\":{\"value\":2},\"plot\":null,\"render_mode\":\"css\",\"right_units\":\"screen\",\"top_units\":\"screen\"},\"id\":\"6349fcfd-5ef4-457e-a6cf-cb7c4b01f863\",\"type\":\"BoxAnnotation\"},{\"attributes\":{\"callback\":null},\"id\":\"8e72e519-924f-4c4e-9c15-44d5d7364d43\",\"type\":\"DataRange1d\"},{\"attributes\":{\"plot\":{\"id\":\"6e3cb7db-c916-4f62-9d6a-8249f90d2681\",\"subtype\":\"Figure\",\"type\":\"Plot\"}},\"id\":\"ce6e65cf-701b-4d68-9356-0ea83e422ec7\",\"type\":\"SaveTool\"},{\"attributes\":{},\"id\":\"22bd1731-33a9-4e0d-bb9d-a6c51059a163\",\"type\":\"BasicTickFormatter\"},{\"attributes\":{\"below\":[{\"id\":\"4e1908e0-e338-4c98-aec8-8c7e777ec069\",\"type\":\"LinearAxis\"}],\"left\":[{\"id\":\"f7a5704e-8d9d-48d3-9d91-655d09acfd86\",\"type\":\"LinearAxis\"}],\"renderers\":[{\"id\":\"4e1908e0-e338-4c98-aec8-8c7e777ec069\",\"type\":\"LinearAxis\"},{\"id\":\"6fa42527-ee9c-4b5a-a3da-38b6136a2531\",\"type\":\"Grid\"},{\"id\":\"f7a5704e-8d9d-48d3-9d91-655d09acfd86\",\"type\":\"LinearAxis\"},{\"id\":\"d20e1db9-ad03-4c47-ad81-a3643b095cc3\",\"type\":\"Grid\"},{\"id\":\"6349fcfd-5ef4-457e-a6cf-cb7c4b01f863\",\"type\":\"BoxAnnotation\"},{\"id\":\"ab664c51-8fb5-4305-b571-f35c5eed97f1\",\"type\":\"GlyphRenderer\"},{\"id\":\"b96b3a5d-8128-4b31-8c90-421970c797a7\",\"type\":\"GlyphRenderer\"}],\"title\":{\"id\":\"658f49ab-2cac-43cc-923d-01234f8865a6\",\"type\":\"Title\"},\"tool_events\":{\"id\":\"c3c03007-16b8-4329-93bf-70151e529f79\",\"type\":\"ToolEvents\"},\"toolbar\":{\"id\":\"a4b83828-da22-4bcc-8303-35a23f6e5c08\",\"type\":\"Toolbar\"},\"x_range\":{\"id\":\"584c4295-fe10-4c9b-a2e0-25b84d953654\",\"type\":\"DataRange1d\"},\"y_range\":{\"id\":\"8e72e519-924f-4c4e-9c15-44d5d7364d43\",\"type\":\"DataRange1d\"}},\"id\":\"6e3cb7db-c916-4f62-9d6a-8249f90d2681\",\"subtype\":\"Figure\",\"type\":\"Plot\"},{\"attributes\":{\"plot\":{\"id\":\"6e3cb7db-c916-4f62-9d6a-8249f90d2681\",\"subtype\":\"Figure\",\"type\":\"Plot\"}},\"id\":\"cfbd88e0-5cb5-4e80-9d31-b999ec5e0cc1\",\"type\":\"ResetTool\"},{\"attributes\":{},\"id\":\"20fdceab-f739-44f6-b6fa-6f01d5bd443b\",\"type\":\"BasicTickFormatter\"},{\"attributes\":{},\"id\":\"112834d8-515d-4c51-9fd3-c5d03ac13f8b\",\"type\":\"BasicTicker\"},{\"attributes\":{\"data_source\":{\"id\":\"6da5f7f4-fdec-4013-9bb6-de5c13545c5d\",\"type\":\"ColumnDataSource\"},\"glyph\":{\"id\":\"46f13927-29ff-44ec-b101-319711c0bb02\",\"type\":\"Circle\"},\"hover_glyph\":null,\"nonselection_glyph\":{\"id\":\"a7844313-16eb-4c3b-afcc-4d9a82b5ec3c\",\"type\":\"Circle\"},\"selection_glyph\":null},\"id\":\"ab664c51-8fb5-4305-b571-f35c5eed97f1\",\"type\":\"GlyphRenderer\"}],\"root_ids\":[\"6e3cb7db-c916-4f62-9d6a-8249f90d2681\"]},\"title\":\"Bokeh Application\",\"version\":\"0.12.4\"}};\n",
       "            var render_items = [{\"docid\":\"2173c050-e247-49ec-95a9-6b796a952426\",\"elementid\":\"b4f53e3c-0b14-4124-92eb-0560d5693b66\",\"modelid\":\"6e3cb7db-c916-4f62-9d6a-8249f90d2681\"}];\n",
       "            \n",
       "            Bokeh.embed.embed_items(docs_json, render_items);\n",
       "          };\n",
       "          if (document.readyState != \"loading\") fn();\n",
       "          else document.addEventListener(\"DOMContentLoaded\", fn);\n",
       "        })();\n",
       "      },\n",
       "      function(Bokeh) {\n",
       "      }\n",
       "    ];\n",
       "  \n",
       "    function run_inline_js() {\n",
       "      \n",
       "      if ((window.Bokeh !== undefined) || (force === true)) {\n",
       "        for (var i = 0; i < inline_js.length; i++) {\n",
       "          inline_js[i](window.Bokeh);\n",
       "        }if (force === true) {\n",
       "          display_loaded();\n",
       "        }} else if (Date.now() < window._bokeh_timeout) {\n",
       "        setTimeout(run_inline_js, 100);\n",
       "      } else if (!window._bokeh_failed_load) {\n",
       "        console.log(\"Bokeh: BokehJS failed to load within specified timeout.\");\n",
       "        window._bokeh_failed_load = true;\n",
       "      } else if (force !== true) {\n",
       "        var cell = $(document.getElementById(\"b4f53e3c-0b14-4124-92eb-0560d5693b66\")).parents('.cell').data().cell;\n",
       "        cell.output_area.append_execute_result(NB_LOAD_WARNING)\n",
       "      }\n",
       "  \n",
       "    }\n",
       "  \n",
       "    if (window._bokeh_is_loading === 0) {\n",
       "      console.log(\"Bokeh: BokehJS loaded, going straight to plotting\");\n",
       "      run_inline_js();\n",
       "    } else {\n",
       "      load_libs(js_urls, function() {\n",
       "        console.log(\"Bokeh: BokehJS plotting callback run at\", now());\n",
       "        run_inline_js();\n",
       "      });\n",
       "    }\n",
       "  }(this));\n",
       "</script>"
      ]
     },
     "metadata": {},
     "output_type": "display_data"
    }
   ],
   "source": [
    "pred_values = lm.predict(X)\n",
    "pred_difference = (pred_values - y)\n",
    "fig = Figure()\n",
    "fig.circle(pred_values,pred_difference)\n",
    "fig.line(x=[pred_values.min(), pred_values.max()], y=[0,0])\n",
    "show(fig)"
   ]
  },
  {
   "cell_type": "markdown",
   "metadata": {},
   "source": [
    "## $R^2$\n",
    "\n",
    "The $R^2$ value provides us with the **proportion of variance** which is explained by the model.  It is a value between 0 and 1, with 0 being that the model has no explanation for any of the variance and 1 being that the regression line fits the data perfectly.\n",
    "\n",
    "The defined range of $R^2$ means that it can give a reasonable indication of how good a model is, although there is no defined range of what constitutes a good enough score.  This would naturally vary between domains, where there is a smaller margin of error than others.\n",
    "\n",
    "In scikit-learn, the **`score`** method calculates the $R^2$ value as follows:"
   ]
  },
  {
   "cell_type": "code",
   "execution_count": 11,
   "metadata": {
    "collapsed": false
   },
   "outputs": [
    {
     "data": {
      "text/plain": [
       "0.75995464577251504"
      ]
     },
     "execution_count": 11,
     "metadata": {},
     "output_type": "execute_result"
    }
   ],
   "source": [
    "lm.score(X, y)"
   ]
  },
  {
   "cell_type": "markdown",
   "metadata": {},
   "source": [
    "## RMSE\n",
    "\n",
    "We now use **RMSE** (Root Mean Squared Error) to **evaluate** our model.  Whereas the residual analysis considers the individual residual difference, RMSE takes the mean of these residuals squared and takes the square root of the total.  This output is the **standard deviation** of a model, and can be used as a measure of accuracy.\n",
    "\n",
    "Further information about [mean_squared_error](http://scikit-learn.org/stable/modules/generated/sklearn.metrics.mean_squared_error.html) and [square root](https://docs.scipy.org/doc/numpy/reference/generated/numpy.sqrt.html)\n",
    "\n",
    "There is a function for calculating the mean squared error, and then a numpy function to calculate the square root of this.  We test the ***actual*** data against the ***predicted*** data performed in the previous cell as follows:"
   ]
  },
  {
   "cell_type": "code",
   "execution_count": 12,
   "metadata": {
    "collapsed": false
   },
   "outputs": [
    {
     "data": {
      "text/plain": [
       "2.365079279855117"
      ]
     },
     "execution_count": 12,
     "metadata": {},
     "output_type": "execute_result"
    }
   ],
   "source": [
    "np.sqrt(mean_squared_error(X, y))"
   ]
  },
  {
   "cell_type": "markdown",
   "metadata": {},
   "source": [
    "By default, the `test_size` argument is 0.25, which means that when it comes to validating the model, we test on a quarter of the data, having trained our model on the complement (three quarters).  Note the difference in size between the training and testing set, and the ordering of the indexes:"
   ]
  },
  {
   "cell_type": "code",
   "execution_count": 13,
   "metadata": {
    "collapsed": false
   },
   "outputs": [
    {
     "name": "stdout",
     "output_type": "stream",
     "text": [
      "Training data: 120\n",
      "      petal_length\n",
      "20            1.7\n",
      "103           5.6\n",
      "107           6.3\n",
      "51            4.5\n",
      "143           5.9 \n",
      "Test data: 30\n",
      "      petal_length\n",
      "114           5.1\n",
      "130           6.1\n",
      "112           5.5\n",
      "119           5.0\n",
      "46            1.6\n"
     ]
    }
   ],
   "source": [
    "print('Training data: %d\\n' % X_train.size, X_train.head(), '\\nTest data: %d\\n' % X_test.size, X_test.head())"
   ]
  },
  {
   "cell_type": "markdown",
   "metadata": {},
   "source": [
    "Our model gets trained as follows:"
   ]
  },
  {
   "cell_type": "code",
   "execution_count": 14,
   "metadata": {
    "collapsed": false
   },
   "outputs": [
    {
     "name": "stdout",
     "output_type": "stream",
     "text": [
      "[ 6.37741222  6.78281927  6.53957504  6.33687151  4.95848754  6.29633081\n",
      "  5.93146446  6.62065645  6.45849363  5.08010965  6.78281927  6.2152494\n",
      "  6.13416799  6.78281927  6.29633081  4.91794683  4.83686542  6.29633081\n",
      "  4.99902824  5.93146446  5.97200517  5.80984235  6.62065645  6.74227856\n",
      "  4.95848754  6.41795292  4.87740613  5.08010965  4.83686542  6.01254587]\n"
     ]
    }
   ],
   "source": [
    "lm = LinearRegression()\n",
    "lm.fit(X_train, y_train)\n",
    "y_pred = lm.predict(X_test)\n",
    "print(y_pred)"
   ]
  },
  {
   "cell_type": "markdown",
   "metadata": {},
   "source": [
    "## Try it yourself...\n",
    "\n",
    "There are two more features which you can use to predict the sepal length of a flower.  Try and find the best combination of predictor variables in the cells below.  If you need to create a new cell, click on `Insert -> Insert Cell Below`"
   ]
  },
  {
   "cell_type": "code",
   "execution_count": 15,
   "metadata": {
    "collapsed": true
   },
   "outputs": [],
   "source": [
    "# YOUR CODE HERE\n"
   ]
  },
  {
   "cell_type": "code",
   "execution_count": 16,
   "metadata": {
    "collapsed": true
   },
   "outputs": [],
   "source": [
    "# YOUR CODE HERE\n"
   ]
  },
  {
   "cell_type": "markdown",
   "metadata": {},
   "source": [
    "# Classification\n",
    "\n",
    "To finish, we will walk through an example classification with a spam filter.  The process with scikit-learn is similar to the one described for linear regression.  \n",
    "\n",
    "We won't go into too much detail on classification, which is the other form of supervised machine learning.  However in this notebook, we will present an example of using a **Bayesian classifier** to classify whether SMS text messages are \"spam\" or \"ham\".\n",
    "\n",
    "We use the dataset from [UCI Machine Learning Repository](https://archive.ics.uci.edu/ml/machine-learning-databases/00228/).  These data are stored in the same directory as the notebook in [spam.csv](./spam.csv)\n",
    "\n",
    "To start, we import the libraries we require to perform this classification, and load the data into a `DataFrame`.  Note that although it's a CSV file, we specify `sep` value as being `'\\t'`, which means that the two fields are separated by a tab character rather than a comma."
   ]
  },
  {
   "cell_type": "code",
   "execution_count": 17,
   "metadata": {
    "collapsed": false
   },
   "outputs": [
    {
     "data": {
      "text/html": [
       "<div>\n",
       "<table border=\"1\" class=\"dataframe\">\n",
       "  <thead>\n",
       "    <tr style=\"text-align: right;\">\n",
       "      <th></th>\n",
       "      <th>Classification</th>\n",
       "      <th>Message</th>\n",
       "    </tr>\n",
       "  </thead>\n",
       "  <tbody>\n",
       "    <tr>\n",
       "      <th>0</th>\n",
       "      <td>ham</td>\n",
       "      <td>Go until jurong point, crazy.. Available only ...</td>\n",
       "    </tr>\n",
       "    <tr>\n",
       "      <th>1</th>\n",
       "      <td>ham</td>\n",
       "      <td>Ok lar... Joking wif u oni...</td>\n",
       "    </tr>\n",
       "    <tr>\n",
       "      <th>2</th>\n",
       "      <td>spam</td>\n",
       "      <td>Free entry in 2 a wkly comp to win FA Cup fina...</td>\n",
       "    </tr>\n",
       "    <tr>\n",
       "      <th>3</th>\n",
       "      <td>ham</td>\n",
       "      <td>U dun say so early hor... U c already then say...</td>\n",
       "    </tr>\n",
       "    <tr>\n",
       "      <th>4</th>\n",
       "      <td>ham</td>\n",
       "      <td>Nah I don't think he goes to usf, he lives aro...</td>\n",
       "    </tr>\n",
       "  </tbody>\n",
       "</table>\n",
       "</div>"
      ],
      "text/plain": [
       "  Classification                                            Message\n",
       "0            ham  Go until jurong point, crazy.. Available only ...\n",
       "1            ham                      Ok lar... Joking wif u oni...\n",
       "2           spam  Free entry in 2 a wkly comp to win FA Cup fina...\n",
       "3            ham  U dun say so early hor... U c already then say...\n",
       "4            ham  Nah I don't think he goes to usf, he lives aro..."
      ]
     },
     "execution_count": 17,
     "metadata": {},
     "output_type": "execute_result"
    }
   ],
   "source": [
    "import numpy as np\n",
    "import pandas as pd\n",
    "import sklearn\n",
    "import sklearn.naive_bayes as nb\n",
    "import sklearn.feature_extraction.text as text\n",
    "import sklearn.model_selection as cv\n",
    "df = pd.read_csv('spam.csv', sep='\\t')\n",
    "df.head()\n"
   ]
  },
  {
   "cell_type": "markdown",
   "metadata": {},
   "source": [
    "In order to be able to get the features, we need to identify features (i.e., the words) which are classified in a particular way.  We need to get some measure of the way that the words are distributed within the messages, and use that to predict the classification into Ham or Spam.\n",
    "\n",
    "There are several ways of assigning the weight to a particular word.  [tf-idf](https://en.wikipedia.org/wiki/Tf%E2%80%93idf) is an information retrieval technique to identify the importance of words in a document based on the times a word is in an individual message, but taking account for the times it appears in the whole document - since some words generally appear more often than others.\n",
    "\n",
    "The [\"bag of words\"](https://en.wikipedia.org/wiki/Bag-of-words_model) is simple: it simply ignores grammar and makes a count of the times that a particular word appears.  This is a commonly used approach, which we will use below.\n",
    "\n",
    "Scikit-learn allows a particular `Vectorizer` (in this instance [CountVectorizer](http://scikit-learn.org/stable/modules/generated/sklearn.feature_extraction.text.CountVectorizer.html)) to be selected to implement one of these strategies, as follows:"
   ]
  },
  {
   "cell_type": "code",
   "execution_count": 18,
   "metadata": {
    "collapsed": false
   },
   "outputs": [],
   "source": [
    "counts = text.CountVectorizer()"
   ]
  },
  {
   "cell_type": "markdown",
   "metadata": {},
   "source": [
    "For scikit-learn to be able to process the data, it needs the data to be as numbers.  The [fit_transform](http://scikit-learn.org/stable/modules/generated/sklearn.feature_extraction.text.CountVectorizer.html#sklearn.feature_extraction.text.CountVectorizer.fit_transform) function converts these data, and we convert the classification to a boolean, which Python can consider as an integer.\n",
    "\n",
    "We define the features as `X` and the labels as `y`"
   ]
  },
  {
   "cell_type": "code",
   "execution_count": 19,
   "metadata": {
    "collapsed": false
   },
   "outputs": [],
   "source": [
    "# The fit_transform function \n",
    "X = counts.fit_transform(df['Message'])\n",
    "\n",
    "\n",
    "# Changing the classification field to a boolean, Python can regard it as an integer of 1 or 0\n",
    "y = df['Classification'] == 'spam'\n",
    "#print(X, y.head())"
   ]
  },
  {
   "cell_type": "markdown",
   "metadata": {},
   "source": [
    "As with linear regression, we split the data into a training and a testing set using the `train_test_split` function, and we fit the training data to the classifier.\n",
    "\n",
    "There are several different types of naive bayes classifier we can use.  In this instance, we are using the [multinomial naive bayes](http://scikit-learn.org/stable/modules/generated/sklearn.naive_bayes.MultinomialNB.html) classifier:"
   ]
  },
  {
   "cell_type": "code",
   "execution_count": 20,
   "metadata": {
    "collapsed": false
   },
   "outputs": [
    {
     "data": {
      "text/plain": [
       "MultinomialNB(alpha=1.0, class_prior=None, fit_prior=True)"
      ]
     },
     "execution_count": 20,
     "metadata": {},
     "output_type": "execute_result"
    }
   ],
   "source": [
    "# Split to a training set and a testing set\n",
    "(text_train, text_test, label_train, label_test) = cv.train_test_split(X, y, test_size=0.2)\n",
    "\n",
    "from sklearn.naive_bayes import MultinomialNB\n",
    "\n",
    "classifier = MultinomialNB()\n",
    "classifier.fit(text_train, label_train)"
   ]
  },
  {
   "cell_type": "markdown",
   "metadata": {},
   "source": [
    "Having trained the model, we can get a simple test of the accuracy by using the [score](http://scikit-learn.org/stable/modules/model_evaluation.html) method:"
   ]
  },
  {
   "cell_type": "code",
   "execution_count": 21,
   "metadata": {
    "collapsed": false
   },
   "outputs": [
    {
     "data": {
      "text/plain": [
       "0.97578475336322867"
      ]
     },
     "execution_count": 21,
     "metadata": {},
     "output_type": "execute_result"
    }
   ],
   "source": [
    "classifier.score(text_test, label_test)"
   ]
  },
  {
   "cell_type": "markdown",
   "metadata": {},
   "source": [
    "We can see that the classifier is already performing very well.  Note that it will give a slightly different result each time, because the classifier is trained on different messages as the order is randomised.\n",
    "\n",
    "The [confusion matrix](http://scikit-learn.org/stable/modules/generated/sklearn.metrics.confusion_matrix.html) shows us the breakdown of instances of true positives, true negatives, false positives, and false negatives.  There is a method for this as well, used upon the test data.  "
   ]
  },
  {
   "cell_type": "code",
   "execution_count": 22,
   "metadata": {
    "collapsed": false,
    "scrolled": true
   },
   "outputs": [
    {
     "data": {
      "text/plain": [
       "array([[956,  17],\n",
       "       [ 10, 132]])"
      ]
     },
     "execution_count": 22,
     "metadata": {},
     "output_type": "execute_result"
    }
   ],
   "source": [
    "from sklearn.metrics import confusion_matrix, f1_score\n",
    "\n",
    "predictions = classifier.predict(text_test)\n",
    "confusion_matrix(label_test, predictions)"
   ]
  },
  {
   "cell_type": "markdown",
   "metadata": {},
   "source": [
    "It is possible to try our own messages as well, and see how those perform.  Once again, they need to be transformed into the correct format for scikit-learn.  The output is as `False` (not spam) and `True` (spam):"
   ]
  },
  {
   "cell_type": "code",
   "execution_count": 23,
   "metadata": {
    "collapsed": false
   },
   "outputs": [
    {
     "name": "stdout",
     "output_type": "stream",
     "text": [
      "[False  True]\n"
     ]
    }
   ],
   "source": [
    "messages = [\"this is a test\", \"spam, spam, spam, glorious spam\"]\n",
    "transformed_messages = counts.transform(messages)\n",
    "predictions = classifier.predict(transformed_messages)\n",
    "print(predictions)"
   ]
  },
  {
   "cell_type": "code",
   "execution_count": null,
   "metadata": {
    "collapsed": true
   },
   "outputs": [],
   "source": []
  }
 ],
 "metadata": {
  "kernelspec": {
   "display_name": "Python 3",
   "language": "python",
   "name": "python3"
  },
  "language_info": {
   "codemirror_mode": {
    "name": "ipython",
    "version": 3
   },
   "file_extension": ".py",
   "mimetype": "text/x-python",
   "name": "python",
   "nbconvert_exporter": "python",
   "pygments_lexer": "ipython3",
   "version": "3.5.2"
  }
 },
 "nbformat": 4,
 "nbformat_minor": 2
}

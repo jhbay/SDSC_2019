{
 "cells": [
  {
   "cell_type": "markdown",
   "metadata": {},
   "source": [
    "# Python Primer\n",
    "\n",
    "This section will give a bit of background information about Python syntax.\n",
    "\n",
    "We will start with the concept of a variable, which is merely a representation of a changeable value.  There are a few special words which you cannot call a variable, such as `class`, otherwise most combinations of letters, numbers and underscores can be used.  Variables are case sensitive.  \n",
    "\n",
    "## Learning Outcomes\n",
    "On completion of this brief introduction to Python participants should be able to identify and understand use of:\n",
    "* variables\n",
    "* functions\n",
    "* code blocks\n",
    "* boolean operators\n",
    "* loops\n",
    "* lists\n",
    "* dictionaries\n",
    "* data retrieval\n",
    "\n"
   ]
  },
  {
   "cell_type": "markdown",
   "metadata": {},
   "source": [
    "## Variables\n",
    "\n",
    "At the outset, the first thing we need to emphasise is the concept of _assignment_ of a variable.  When we use the `=` symbol, we are assigning a value to an existing variable.  This is not the same meaning as in a mathematical equation which implies the two sides of the sign are equal.  The outcome of this is that you can have valid statements such as `x = x + 1`, which would increase the value of `x` by 1, rather than being a statement of truth.\n",
    "\n",
    "In Python, and many modern programming languages _equivalence_ is represented as `==` i.e., two equals signs.  So, by saying `x == x`, you are making a (correct) statement about the variable `x`.  The output of this statement therefore would be `True`.  If by contrast, you were to say `x == x + 1`, this is another statement, which is incorrect.  The outcome of this would therefore be `False`.\n",
    "\n",
    "Have a look at the code below for some examples.  You can run code in the browser by selecting the cell, and then pressing `Crtl` + `Enter`, or by using the \"play\" button on the menu above."
   ]
  },
  {
   "cell_type": "code",
   "execution_count": 1,
   "metadata": {
    "collapsed": false
   },
   "outputs": [
    {
     "name": "stdout",
     "output_type": "stream",
     "text": [
      "False\n",
      "x * y = 200\n",
      "x * y = 400\n",
      "True\n",
      "True\n",
      "None\n"
     ]
    }
   ],
   "source": [
    "# an example of a dataframe in which python code can be executed in a browser\n",
    "\n",
    "# variable x is assigned value 10\n",
    "x = 10\n",
    "\n",
    "# variable y is assigned value 20\n",
    "y = 20\n",
    "\n",
    "# print the result of expressing that x is equal to y (False as x does not equal y)\n",
    "print(x == y)\n",
    "\n",
    "# variable 'text' is assigned the string 'x * y ='\n",
    "text = 'x * y ='\n",
    "\n",
    "# print the value of variable 'text' followed by the sum of 'x * y', each of which have previously been defined\n",
    "print(text, (x * y))\n",
    "\n",
    "# change the value of 'x' by assigning the value 20\n",
    "x = 20\n",
    "\n",
    "print(text, (x * y))\n",
    "\n",
    "# print the result of expressing that x is equal to y (True as x does equal y)\n",
    "print(x == y)\n",
    "\n",
    "# print the output of the `print` function\n",
    "print(print(x== y))"
   ]
  },
  {
   "cell_type": "markdown",
   "metadata": {},
   "source": [
    "There we have an example of different types of variables: integers and a string.  The string is surrounded by either `''` or `\"\"`, and can be any combination of numbers and letters.\n",
    "\n",
    "Integers are just defined as they are.  The same can be said for the `float` type, which is any real number, though very large numbers are restricted.\n",
    "\n",
    "We also used booleans, which are simple True/False values.  Boolean statements are known as conditionals, and are used to decide whether to run certain blocks of code.\n",
    "\n",
    "Finally, we are using the `print` function to output the value to the screen.  All the values we want to output are separated by the commas within parentheses.  These are called arguments, and will be used within the function. Like a mathematical function, as these values change, so too does the output.  This has a type of `None` which is the Python equivalent of `null`.  Note that this is different from `0`, which is a value, whereas `None` means no value.\n"
   ]
  },
  {
   "cell_type": "markdown",
   "metadata": {},
   "source": [
    "## Blocks of Code and Booleans\n",
    "\n",
    "In Python, the indentation of code is important.  So important, that, if it is not correct it will not run at all.  Most programming environments which support Python will do this automatically, but it is important to know to expect it.  Each new \"block\" of code MUST be indented by the same amount of spaces.\n",
    "\n",
    "An important example of this is where we use an `if` statement to decide whether to run the next bit of code.  If statements evaluate the result of a boolean variable (`True` or `False`).\n",
    "\n",
    "Rather than just using `if`, we can also decide what to do in other situations.  So, we have\n",
    "\n",
    "    if condition_a:\n",
    "        .....\n",
    "    elif condition_b\n",
    "        ....\n",
    "    elif condition_c\n",
    "        .....\n",
    "    else\n",
    "        .....\n",
    "\n",
    "The flow of this would be as follows.\n",
    "\n",
    "1. Check for a certain condition\n",
    "\n",
    "2. If the first condition does not apply, try other conditions - first condition_b and then condition_c\n",
    "\n",
    "3. If none of these conditions apply, then fall back on the action for all other conditions.\n",
    "\n",
    "Look at the example below, and try changing the values to see how if/else statements work in practice."
   ]
  },
  {
   "cell_type": "code",
   "execution_count": 2,
   "metadata": {
    "collapsed": false
   },
   "outputs": [
    {
     "name": "stdout",
     "output_type": "stream",
     "text": [
      "If this is running, then we can relax!\n",
      "42\n",
      "x is equal to 42\n"
     ]
    }
   ],
   "source": [
    "x = 0\n",
    "if 0 == 1: # Will never run!`\n",
    "    print(\"If this is running, something has gone wrong!\")\n",
    "# as 0 does not equal 1 the 'else' block runs\n",
    "else:\n",
    "    print(\"If this is running, then we can relax!\")\n",
    "    \n",
    "    # assigning the value of 42 to the variable 'x'    \n",
    "    x = 42\n",
    "\n",
    "print(x)\n",
    "          \n",
    "# We can use variables to make these checks as well          \n",
    "x = 42\n",
    "if x > 42:\n",
    "    print(\"x is greater than 42\")\n",
    "elif x == 42:\n",
    "    print(\"x is equal to 42\")\n",
    "else:\n",
    "    print(\"x is less than 42\")"
   ]
  },
  {
   "cell_type": "markdown",
   "metadata": {},
   "source": [
    "### Booleans\n",
    "\n",
    "We dealt with `if` statements in the previous cell, which use the outcomes of truth statements to help them to decide.  The first example of `0 == 1` is an equivalence test, which will always be false.  No matter what, 0 will never be equivalent to 1.  There are other operators used ot make these decisions, as follows:\n",
    "\n",
    "`!=` means not equal to.  I.e.,"
   ]
  },
  {
   "cell_type": "code",
   "execution_count": 3,
   "metadata": {
    "collapsed": false
   },
   "outputs": [
    {
     "name": "stdout",
     "output_type": "stream",
     "text": [
      "True False\n"
     ]
    }
   ],
   "source": [
    "print(0 != 1, 0 != 0)"
   ]
  },
  {
   "cell_type": "markdown",
   "metadata": {},
   "source": [
    "Mathematical operators like `>=`, `>`, `<=`, `<` have the usual meanings, where `>` means greater than and `<` means less than."
   ]
  },
  {
   "cell_type": "code",
   "execution_count": 4,
   "metadata": {
    "collapsed": false
   },
   "outputs": [
    {
     "name": "stdout",
     "output_type": "stream",
     "text": [
      "These should be true\n",
      "True True True True\n"
     ]
    }
   ],
   "source": [
    "print('These should be true')\n",
    "print(42 > 40, 42 >= 42, 42 < 64, 42 <= 42)"
   ]
  },
  {
   "cell_type": "markdown",
   "metadata": {},
   "source": [
    "Python also has the concept of \"truthy\" or \"falsy\" conditionals.  Various values will default to either `True` or `False`.  Values such as `0`, `''`, `None` will default to `False` and most others will default to `True`.  \n",
    "\n",
    "It is generally considered to be good practice to not try and evaluate a variable compared to `True` or `False`, but rather to take advantage of these truthy or falsy variables.  Consider the following:"
   ]
  },
  {
   "cell_type": "code",
   "execution_count": 5,
   "metadata": {
    "collapsed": false
   },
   "outputs": [
    {
     "name": "stdout",
     "output_type": "stream",
     "text": [
      "truthy_var evaluated to True\n",
      "falsy_var evaluated to False\n"
     ]
    }
   ],
   "source": [
    "truthy_var = 1\n",
    "if truthy_var:\n",
    "    print('truthy_var evaluated to %s' % str(bool(truthy_var)))\n",
    "\n",
    "falsy_var = None\n",
    "\n",
    "if not falsy_var:\n",
    "    print('falsy_var evaluated to %s' % str(bool(falsy_var)))\n"
   ]
  },
  {
   "cell_type": "markdown",
   "metadata": {},
   "source": [
    "Finally, we can also combine booleans into statements using `and` or `or`.  These have their usual logical meaning: If both conditions are true, then `and` will evaluate to `True`.  If one or both is `True`, then an `or` statement will evaluate to `True`.\n",
    "\n",
    "The use of the word `not` will reverse the output.  So the statement `not True == False` evaluates to `True`.\n",
    "\n",
    "It is also possible to combine `and` and `or` statements, and these can be included in parentheses so those grouped together will be evaluated together.  Consider the following code:"
   ]
  },
  {
   "cell_type": "code",
   "execution_count": 6,
   "metadata": {
    "collapsed": false
   },
   "outputs": [
    {
     "name": "stdout",
     "output_type": "stream",
     "text": [
      "This should run because truthy_1 and truthy_2 are both truthy\n",
      "This should run, because it contains a truthy variable\n"
     ]
    }
   ],
   "source": [
    "truthy_1 = True\n",
    "truthy_2 = 1\n",
    "falsy_1 = False\n",
    "falsy_2 = 0\n",
    "\n",
    "if truthy_1 and falsy_1:\n",
    "    print('This should never run')\n",
    "    \n",
    "    \n",
    "if truthy_1 and truthy_2:\n",
    "    print('This should run because truthy_1 and truthy_2 are both truthy')\n",
    "    \n",
    "if truthy_1 or falsy_2:\n",
    "    print('This should run, because it contains a truthy variable')\n",
    "\n",
    "if falsy_1 or falsy_2:\n",
    "    print('This should not run, because both are falsy')\n",
    "    \n",
    "# Try and work out what the output to the code below would be\n",
    "# Then uncomment and run for yourself to see if you are right\n",
    "# if not(truthy_1 or (falsy_1 and truthy_2)):\n",
    "#     print('This is True')\n",
    "# else:\n",
    "#     print('This is False')"
   ]
  },
  {
   "cell_type": "markdown",
   "metadata": {},
   "source": [
    "## Functions\n",
    "A function is a self-contained block of code where, by \"calling\" it, the code within that block will be executed.  A function is defined as follows: \n",
    "\n",
    "    def super_function():\n",
    "        \"\"\"\n",
    "        A comment about what the purpose of the function is, for documentation purposes\n",
    "        \"\"\"\n",
    "        return 42\n",
    "        \n",
    "Let's break that down a bit.  \n",
    "- We start off with `def`, which means that you are defining a function\n",
    "- The function is called `super_function`.  Every time someone writes `super_function()` in their code after this, it will execute this function.\n",
    "- The brackets include any parameters to be passed to the function.  In this case, there are no parameters.  This will be discussed more further down.\n",
    "- The `:` means that the function definition is finished.  Everything else should be one tab further in.\n",
    "- The `\"\"\"` syntax defines a comment.  This is reserved for documenting functions or modules rather than providing notes about a specific bit of code.\n",
    "- `return 42` means that the output of the function is `42`, like would be the case for a mathematical function.  You could assign the output of a function to a variable, as in the code below."
   ]
  },
  {
   "cell_type": "code",
   "execution_count": 7,
   "metadata": {
    "collapsed": false
   },
   "outputs": [
    {
     "name": "stdout",
     "output_type": "stream",
     "text": [
      "True\n"
     ]
    }
   ],
   "source": [
    "def super_function():\n",
    "    \"\"\"\n",
    "    A comment about what the purpose of the function is, for documentation purposes\n",
    "    \"\"\"\n",
    "    return 42\n",
    "\n",
    "x = super_function()\n",
    "print(x == 42)"
   ]
  },
  {
   "cell_type": "markdown",
   "metadata": {},
   "source": [
    "The other important element of functions is their parameters.  This means that you can put in the names of variables and give them a value when you call the function.  Consider the function `hello` defined below.  This has a parameter of `name`, and then prints a string.  This means that any name you \"pass\" the function, it will print that.  \n",
    "\n",
    "The term \"arguments\" is used to describe the actual values passed to the function when it's called, which is slightly different to the \"parameters\" which are in the function definition"
   ]
  },
  {
   "cell_type": "code",
   "execution_count": 8,
   "metadata": {
    "collapsed": false
   },
   "outputs": [
    {
     "name": "stdout",
     "output_type": "stream",
     "text": [
      "Hello, Timothy.  I hope you're having a nice day!\n",
      "Hello, Bob.  I hope you're having a nice day!\n",
      "Hello, Anna.  I hope you're having a nice day!\n"
     ]
    }
   ],
   "source": [
    "# instead of writing `print (\"Hello, %s.  I hope you're having a nice day!\" % name)` each time \n",
    "#an output is required the function `hello` is called\n",
    "\n",
    "def hello(name):\n",
    "    print(\"Hello, %s.  I hope you're having a nice day!\" % name)\n",
    "\n",
    "# call the function 'hello', in this case the parameter 'name' is passed to the function\n",
    "hello ('Timothy')\n",
    "hello('Bob')\n",
    "hello('Anna')"
   ]
  },
  {
   "cell_type": "markdown",
   "metadata": {},
   "source": [
    "At this point, it is important to think about what happens to the scope of variables connected to the parameters, and variables declared within a function.  In general, functions - and any other code block - will take the value of the variable with the smallest scope where there is a choice.\n",
    "\n",
    "The code below provides an illustration of this in action:"
   ]
  },
  {
   "cell_type": "code",
   "execution_count": 9,
   "metadata": {
    "collapsed": false
   },
   "outputs": [
    {
     "name": "stdout",
     "output_type": "stream",
     "text": [
      "new x new y\n"
     ]
    }
   ],
   "source": [
    "x = 'x'\n",
    "y = 'y'\n",
    "def foo(x):\n",
    "    y = 'new y'\n",
    "    print(x, y)\n",
    "    \n",
    "foo('new x')"
   ]
  },
  {
   "cell_type": "markdown",
   "metadata": {},
   "source": [
    "## Loops, Lists, and Dictionaries\n",
    "\n",
    "The final thing to know about is loops and lists.  A loop is another example of a code block, and everything within that block will be executed for a certain set of conditions.  The most common way that this might work is by working over each element in a list.\n",
    "\n",
    "Look at the example below, and run it:\n"
   ]
  },
  {
   "cell_type": "code",
   "execution_count": 10,
   "metadata": {
    "collapsed": false
   },
   "outputs": [
    {
     "name": "stdout",
     "output_type": "stream",
     "text": [
      "1\n",
      "4\n",
      "9\n",
      "16\n",
      "25\n",
      "6 x 6\n",
      "49\n",
      "64\n",
      "81\n",
      "100\n",
      "Have we finished yet?\n",
      "False\n",
      "True\n",
      "[1, '4', 9, 16, 25, '6 x 6', 49, 64, 81, 100, 'Have we finished yet?', False, True]\n"
     ]
    }
   ],
   "source": [
    "listy = [1, '4', 9, 16, 25, '6 x 6', 49, 64, 81, 100, \"Have we finished yet?\", 0 == 1]\n",
    "# the variable 'listy' is assigned a list [., ., ....]\n",
    "\n",
    "listy.append(True)\n",
    "# the variable (listy) has element 'True' added to the list\n",
    "\n",
    "for li in listy:\n",
    "# itterate through 'listy'\n",
    "\n",
    "    print(li)\n",
    "# output to screen members of list 'listy'\n",
    "\n",
    "print(listy)"
   ]
  },
  {
   "cell_type": "markdown",
   "metadata": {},
   "source": [
    "This example shows you three things.  \n",
    "\n",
    "* Firstly, how a list is set out - it is a series of values separated by commas.\n",
    "* Secondly, it shows how to add an element to the list, `append()` adds an item onto the end\n",
    "* It shows how to iterate through a list\n",
    "\n",
    "The format for a loop is similar to English like a lot of Python which is one of the reasons for its popularity.  All that's saying is \"for each item called li in the list listy do the following things\".  In this case, we took the variable `li`, and printed it.\n",
    "\n",
    "Elements of a loop are numbered, so you can access an individual element by using its index.  For historical reasons, a lot of programming languages start at `0`, and Python is no exception.  So for a list of `n` items, the series of indexes are `0, 1, ..., n-1`.\n",
    "\n",
    "The first element is accessed like this:\n",
    "\n",
    "`var_name = listy[0]`\n",
    "\n",
    "It would also be possible, and preferable in some situations, to iterate through the loop accessing elements by index.  This uses the `range` function, and can be done as follows:\n"
   ]
  },
  {
   "cell_type": "code",
   "execution_count": 11,
   "metadata": {
    "collapsed": false
   },
   "outputs": [
    {
     "name": "stdout",
     "output_type": "stream",
     "text": [
      "[1, '4', 9, 16, 25, '6 x 6', 49, 64, 81, 100, 'Have we finished yet?', False, True] \n",
      "\n",
      "li has value 2\n",
      "The value at listy[2] is: 9\n",
      "li has value 3\n",
      "The value at listy[3] is: 16\n",
      "li has value 4\n",
      "The value at listy[4] is: 25\n",
      "li has value 5\n",
      "The value at listy[5] is: 6 x 6\n",
      "li has value 6\n",
      "The value at listy[6] is: 49\n",
      "li has value 7\n",
      "The value at listy[7] is: 64\n",
      "li has value 8\n",
      "The value at listy[8] is: 81\n",
      "li has value 9\n",
      "The value at listy[9] is: 100\n",
      "li has value 10\n",
      "The value at listy[10] is: Have we finished yet?\n",
      "li has value 11\n",
      "The value at listy[11] is: False\n",
      "li has value 12\n",
      "The value at listy[12] is: True\n"
     ]
    }
   ],
   "source": [
    "# Run this code\n",
    "# This is a string output of 'listy' and \\n means to add an empty line\n",
    "print((listy), '\\n')\n",
    "\n",
    "for li in range(2, len(listy)):\n",
    "\n",
    "    # in 'listy' element 0 is integer value 1, element 1 is string '4', element 2 is integer 9.\n",
    "    # the range function counts each element from element 2 onwards i.e. 2, 3, 4, ... 12\n",
    "    \n",
    "    # This is the index of the list\n",
    "    print('li has value %d' % li)\n",
    "    # The index points to the corresponding value at each index point\n",
    "    print('The value at listy[%d] is: %s' % (li, str(listy[li])))"
   ]
  },
  {
   "cell_type": "markdown",
   "metadata": {},
   "source": [
    "This might look a bit complicated, because we're using the output of a function as a parameter.  That's okay, we can just evaluate them one at a time.\n",
    "\n",
    "`len(listy)` takes a list as a parameter, and returns the length of the list.  In the case of `listy`, there are 13 elements, so that number is returned.  This means that we are calling the `range` function as: `range(13)`.\n",
    "\n",
    "The `range` function takes a number `n` as a parameter, and returns a list from `0` to `n-1` (there are more options with this function, but we won't go into them here).  \n",
    "\n",
    "### Dictionaries\n",
    "\n",
    "Another Python data structure is a dictionary, which is a series of key/value pairs.  The key/values are represented within curly brackets as  `{key: value}`, separated by commas.  They can be operated on in a similar way to lists, except that the key is taking the place of the index.  The keys can be iterated over in the same way as a list.  See the following example:"
   ]
  },
  {
   "cell_type": "code",
   "execution_count": 12,
   "metadata": {
    "collapsed": false
   },
   "outputs": [
    {
     "name": "stdout",
     "output_type": "stream",
     "text": [
      "ghi 789\n",
      "abc 123\n",
      "def 456\n"
     ]
    }
   ],
   "source": [
    "dicty = {'abc': 123, 'def': 456, 'ghi': 789}\n",
    "for d in dicty:\n",
    "    print(d, dicty[d])\n",
    "    "
   ]
  },
  {
   "cell_type": "markdown",
   "metadata": {},
   "source": [
    "In the example, we print both the key (as `d`) and the value, using `d` as an index.  There are a couple of things to be careful of when dealing with dictionaries compared to lists:\n",
    "\n",
    "* Order is not guaranteed.  Just because you add something first does not necessarily mean that it will be iterated first.\n",
    "* Keys are unique.  If we were to add another pair with a key `'ghi'`, it would overwrite the existing value (see below)\n",
    "* If you try to access a key which is not in the dictionary, it will give an error.  We can check this using the format: `if 'ghi' in dicty:`\n",
    "\n",
    "The following code will illustrate this"
   ]
  },
  {
   "cell_type": "code",
   "execution_count": 13,
   "metadata": {
    "collapsed": false
   },
   "outputs": [
    {
     "name": "stdout",
     "output_type": "stream",
     "text": [
      "{'ghi': 789, 'abc': 123, 'def': 456}\n",
      "{'ghi': 'Different value!', 'abc': 123, 'def': 456}\n",
      "Different value!\n",
      "The key jkl doesn't exist\n"
     ]
    }
   ],
   "source": [
    "print(dicty)\n",
    "dicty['ghi'] = 'Different value!'\n",
    "print(dicty)\n",
    "\n",
    "if 'ghi' in dicty:\n",
    "    print(dicty['ghi'])\n",
    "    \n",
    "if 'jkl' in dicty:\n",
    "    print(dicty['ghi'])\n",
    "else:\n",
    "    print(\"The key jkl doesn't exist\")"
   ]
  },
  {
   "cell_type": "markdown",
   "metadata": {},
   "source": [
    "## Bringing it all together\n",
    "A function called `get_csv`, which retrieves data stored in a csv file has been written for use with the Python exercise introduced in week 2.  The parameters the function takes are:\n",
    "\n",
    "- `weekday` The day as a digit number, between 1 and 7\n",
    "- `year` The year as a 4 digit number, between 2012 and 2015\n",
    "- `month` The month as an integer between 1 and 12\n",
    "- `amount_of_lines` The amount of lines of the CSV file to return\n",
    "- `show_headers` Whether to show the headers of the CSV columns.  Default value: `False`\n",
    "\n",
    "### Aside: What is a CSV File?\n",
    "\n",
    "CSV stands for \"comma-separated values\", and is a simple file format which holds data as a series of rows which are separated by commas. It can be opened by Microsoft Excel but is easier to use for programming because it's just plain text and not a proprietary format.\n",
    "\n",
    "The following example gives average journey times over route sections for dates and times specified as parameters of a function. Traffic data is made available through the 'Data.Gov.UK' website. As it would not be practical to store this volume of data in a single file the data is stored according to year, month then day of week. The data used in these exercises was downloaded from 'Data.Gov.UK' then 'cleaned'."
   ]
  },
  {
   "cell_type": "code",
   "execution_count": 14,
   "metadata": {
    "collapsed": false
   },
   "outputs": [
    {
     "name": "stdout",
     "output_type": "stream",
     "text": [
      "['LinkRef', 'Date', 'TimePeriod', 'AverageJT']\n",
      "['4', '2013-10-07', '00:00', '67.78']\n",
      "['4', '2013-10-07', '00:15', '71.20']\n",
      "['4', '2013-10-07', '00:30', '72.43']\n",
      "['4', '2013-10-07', '00:45', '73.97']\n",
      "['4', '2013-10-07', '01:00', '71.16']\n",
      "['4', '2013-10-07', '01:15', '71.74']\n",
      "['4', '2013-10-07', '01:30', '75.13']\n",
      "['4', '2013-10-07', '01:45', '73.33']\n",
      "['4', '2013-10-07', '02:00', '77.80']\n",
      "['4', '2013-10-07', '02:15', '79.28']\n",
      "\n"
     ]
    }
   ],
   "source": [
    "# from the 'magic' library import all functions listed\n",
    "from magic import *\n",
    "\n",
    "# though the function 'get_csv' has been imported from the 'magic' library it is also listed below for clarity\n",
    "\n",
    "def get_csv(weekday, year, month, amount_of_lines, show_headers=False):\n",
    "    for p in [weekday, year, month, amount_of_lines]:\n",
    "        \n",
    "# check 'p' is an interger, if not display an error message\n",
    "        if not type(p) is int:\n",
    "            raise ValueError(\"Invalid parameter type '%s'.  This parameter should be an integer\" % str(p))\n",
    "\n",
    "# check 'year' is in the range 2012 - 2014 inclusive, if not display error message\n",
    "    if year < 2012 or year > 2014:\n",
    "        raise ValueError(\"Please enter a year between 2012 and 2014\")\n",
    "    \n",
    "    if weekday < 1 or weekday > 7:\n",
    "        raise ValueError(\"Please enter a group number between 1 and 7\")\n",
    "    \n",
    "    if month < 1 or month > 12:\n",
    "        raise ValueError(\"Please enter a month number between 1 and 12\")\n",
    "\n",
    "    # you should recognise that 'prettify_month' as a function - check by opening the 'magic.py' file with a text editor\n",
    "    month = prettify_month(month)\n",
    "    \n",
    "    return_string = ''\n",
    "    \n",
    "    # The 'with open' block allows a file to be pointed to at the location '/srv/jupyterhub/....'  \n",
    "    # Within the block, the file is opened, Python deals with closing it automatically once the block has finished\n",
    "    with open('/srv/jupyterhub/data/group%d/%s-%s.csv' % (weekday, year, month)) as f:\n",
    "        reader = csv.reader(f)\n",
    "        i = 0\n",
    "        for row in reader:\n",
    "            if row[1].strip() == 'Date' and not show_headers:\n",
    "                continue\n",
    "            if i > amount_of_lines:\n",
    "                break\n",
    "            i += 1\n",
    "            \n",
    "            return_string += '%s\\n' % str(row)\n",
    "        return return_string\n",
    "\n",
    "# the variable 'stringy' is assigned the results of calling function 'get_csv' which is stored in the 'magic' file\n",
    "# the selection parameters passed to the function are weekday (1-7), year (2012-2014), month (1-12), number of rows.\n",
    "\n",
    "stringy = get_csv(1, 2013, 10, 10, True)\n",
    "\n",
    "# the headers for each column are shown in the first row, \n",
    "print(stringy)\n",
    "\n",
    "# in this instance Linkref refers to a route section, Date and TimePeriod refer to when data was recorded\n",
    "# AverageJT refers to average journey time"
   ]
  },
  {
   "cell_type": "markdown",
   "metadata": {},
   "source": [
    "# Hack the code\n",
    "Print journey times for Thursdays in Febuary, 2012. You can do this by editing the code in the cell above or inserting a new cell below with appropriate code."
   ]
  }
 ],
 "metadata": {
  "kernelspec": {
   "display_name": "Python 3",
   "language": "python",
   "name": "python3"
  },
  "language_info": {
   "codemirror_mode": {
    "name": "ipython",
    "version": 3
   },
   "file_extension": ".py",
   "mimetype": "text/x-python",
   "name": "python",
   "nbconvert_exporter": "python",
   "pygments_lexer": "ipython3",
   "version": "3.5.2"
  }
 },
 "nbformat": 4,
 "nbformat_minor": 0
}

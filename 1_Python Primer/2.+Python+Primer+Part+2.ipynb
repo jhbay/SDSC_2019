{
 "cells": [
  {
   "cell_type": "markdown",
   "metadata": {},
   "source": [
    "# Python Primer Part 2\n",
    "\n",
    "The previous [Python Primer](./1. Python Primer.ipynb) provides an outline of most of the concepts to get you up to speed with Python if you are coming from a different programming language.  There are a few other things which are worth knowing, which will be introduced in this notebook.  These are:\n",
    "\n",
    "- Objects and classes\n",
    "- Importing\n",
    "- Style guide and conventions\n",
    "- Libraries"
   ]
  },
  {
   "cell_type": "markdown",
   "metadata": {},
   "source": [
    "## Objects and Classes\n",
    "\n",
    "One of the advantages of Python is that it can be used to create a script very quickly, where a few lines of code can be written.  However, it also supports object oriented programming with full support for classes and multiple inheritance.  \n",
    "\n",
    "### Object Oriented Programming\n",
    "\n",
    "Object oriented (OO) programming is a specific type of programming where \"objects\" interact with each other.  A class is a representation of something, including any attributes associated with it represented as fields, or things it can do represented as methods.  \n",
    "\n",
    "Consider the example of a university student.  They would have a name, a course they are on, a grade history, an ID number, and many more.  In this way, we could start to come up with an abstraction of what a student should look like, as in the code below:\n"
   ]
  },
  {
   "cell_type": "code",
   "execution_count": 1,
   "metadata": {
    "collapsed": false
   },
   "outputs": [
    {
     "name": "stdout",
     "output_type": "stream",
     "text": [
      "{'surname': 'Doe', 'full_time': True, 'current_course': 'Data Science', 'id_number': 1234, 'first_name': 'Jane'}\n"
     ]
    }
   ],
   "source": [
    "class Student(object):\n",
    "    first_name = ''\n",
    "    surname = ''\n",
    "    id_number = 0\n",
    "    full_time = True\n",
    "    current_course = ''\n",
    "    \n",
    "    def __init__(self, first_name, surname, id_number, current_course):\n",
    "        self.first_name = first_name\n",
    "        self.surname = surname        \n",
    "        self.id_number = id_number\n",
    "        self.full_time = True\n",
    "        self.current_course = current_course\n",
    "        \n",
    "\n",
    "stud = Student('Jane', 'Doe', 1234, 'Data Science')\n",
    "print(vars(stud))"
   ]
  },
  {
   "cell_type": "markdown",
   "metadata": {},
   "source": [
    "Here, we have created a representation of a `Student` class.  The first line indicates a class called `Student` (similar to how we defined a function), and the `object` parameter is the class we are inheriting from (more about inheritance later).\n",
    "\n",
    "We then define a series of \"fields\", such as `first_name`, `surname`....  These are the properties of the particular class, which are then given a value inside the `__init__` method.\n",
    "\n",
    "`__init__` is a special method in Python for classes, which is called when an instance of a class is created.  As a result, if you need to set it up in any way, you can put inside that method and be confident it will be called.  \n",
    "\n",
    "Inside the `__init__` method, we do indeed assign the fields in the class certain values.  The keyword `self` means the current instance of the fucntion, so the student Jane Doe we are creating will have those attributes.\n",
    "\n",
    "We then create an instance of a class, again in a similar way to how we would call a function.  Finally, we use the Python `vars` method to see attributes of that particular instance"
   ]
  },
  {
   "cell_type": "markdown",
   "metadata": {},
   "source": [
    "### Class Methods\n",
    "\n",
    "The `__init__` function was an example of a method of a class.  To all intents and purposes, a method is behaves in a way largely identical to a function.  The difference is that it is a part of a class, and so will have access to all the elements of a class.  When defined, its first parameter is, by convention, `self`, which represents the particular instance that it is a part of.\n",
    "\n",
    "An example of where we might use it is if we wanted to modify our student class to take only an `id_number` as a parameter, and then use a database to get the rest of the information.  We could do this as follows:"
   ]
  },
  {
   "cell_type": "code",
   "execution_count": 2,
   "metadata": {
    "collapsed": false
   },
   "outputs": [
    {
     "name": "stdout",
     "output_type": "stream",
     "text": [
      "{'surname': 'Doe', 'full_time': True, 'current_course': 'Data Science', 'id_number': 1234, 'first_name': 'Jane'}\n"
     ]
    }
   ],
   "source": [
    "class Student(object):\n",
    "    first_name = ''\n",
    "    surname = ''\n",
    "    id_number = 0\n",
    "    full_time = True\n",
    "    current_course = ''\n",
    "    \n",
    "    def __init__(self, id_number):\n",
    "        self.id_number = id_number\n",
    "        self.set_student_information()\n",
    "        \n",
    "    def set_student_information(self):\n",
    "        # Normally this would come about as a result of a database connection\n",
    "        # rather than having a dict in the method like this\n",
    "        # Checking against the ID number to show the function can use `self` variables\n",
    "        if self.id_number == 1234:\n",
    "            student_information = {\n",
    "                'first_name': 'Jane', \n",
    "                'surname': 'Doe', \n",
    "                'full_time': True,\n",
    "                'current_course': 'Data Science'\n",
    "            }\n",
    "            self.first_name = student_information['first_name']\n",
    "            self.surname = student_information['surname']\n",
    "            self.full_time = student_information['full_time']\n",
    "            self.current_course = student_information['current_course']\n",
    "        \n",
    "\n",
    "\n",
    "stud = Student(1234)\n",
    "print(vars(stud))"
   ]
  },
  {
   "cell_type": "markdown",
   "metadata": {},
   "source": [
    "#### Task\n",
    "\n",
    "Modify the `Student` class above to represent the modules that the student is currently sitting.  You do not need to implement the functionality, but may introduce a [method stub](https://en.wikipedia.org/wiki/Method_stub)"
   ]
  },
  {
   "cell_type": "markdown",
   "metadata": {},
   "source": [
    "### Inheritance\n",
    "\n",
    "A class in itself can be quite useful for encapsulating related knowledge and functions, but its real strength comes when it is possible to 'inherit' the properties and functions of a 'super class'.  From our student example, suppose that we had an additional property `fees` which is different for domestic students and international students.  Rather than implementing all our detail for each case, we can keep the core of what a student is in a super class, and adjust as appropriate in subclasses.\n",
    "\n",
    "We do this by indicating which class another class is inheriting from, and then creating a method of the same name in the sub class, as follows:"
   ]
  },
  {
   "cell_type": "code",
   "execution_count": 3,
   "metadata": {
    "collapsed": false
   },
   "outputs": [
    {
     "name": "stdout",
     "output_type": "stream",
     "text": [
      "{'fees': 9000, 'prospects': 'Excellent', 'id_number': 123, 'current_course': 'Data Science'}\n",
      "{'fees': 18000, 'prospects': 'Excellent', 'home_country': 'Canada', 'id_number': 456, 'current_course': 'Data Science'}\n",
      "{'fees': 0, 'prospects': 'Excellent', 'id_number': 789, 'current_course': 'Data Science'}\n"
     ]
    }
   ],
   "source": [
    "class Student(object):\n",
    "    first_name = ''\n",
    "    surname = ''\n",
    "    id_number = 0\n",
    "    full_time = True\n",
    "    current_course = ''\n",
    "    fees = 0\n",
    "    \n",
    "    def __init__(self, id_number):\n",
    "        self.id_number = id_number\n",
    "        self.current_course = 'Data Science'\n",
    "        self.set_fees()\n",
    "        self.set_prospects()\n",
    "\n",
    "    def set_fees(self):\n",
    "        self.fees = 9000\n",
    "        \n",
    "    def set_prospects(self):\n",
    "        self.prospects =  'Excellent'\n",
    "        \n",
    "        \n",
    "class ForeignStudent(Student):\n",
    "    def __init__(self, id_number):\n",
    "        super().__init__(id_number)\n",
    "        self.home_country = 'Canada'\n",
    "        \n",
    "        \n",
    "    def set_fees(self):\n",
    "        self.fees = 18000\n",
    "\n",
    "        \n",
    "class BursaryStudent(Student):\n",
    "    def set_fees(self):\n",
    "        self.fees = 0\n",
    "        \n",
    "dom = Student(123)\n",
    "foreign = ForeignStudent(456)\n",
    "bursary = BursaryStudent(789)\n",
    "\n",
    "print(vars(dom))\n",
    "print(vars(foreign))\n",
    "print(vars(bursary))"
   ]
  },
  {
   "cell_type": "markdown",
   "metadata": {},
   "source": [
    "Notice how the same behaviour has been carried through the subclasses, except where the method is specifically different, such as with `set_fees`.  Some other things to note from the code are as follows:\n",
    "- If a function is not specifically overridden in the subclass, then it will use the function in the superclass (as with `set_prospects`.\n",
    "- If a function is set in the sub class, it will be executed in an instance of the subclass (as with `set_fees`).\n",
    "- If you want to keep the functionality of a superclass function but extend it, you can do as in the constructor of `ForeignStudent`.  The `super()` method calls a method in the superclass, and the further customisations may occur in the subclass (as with `__init__` in the `ForeignStudent` class)"
   ]
  },
  {
   "cell_type": "markdown",
   "metadata": {
    "collapsed": true
   },
   "source": [
    "## Importing Libraries\n",
    "\n",
    "Python organises its code in a series of modules, which do not have access to each other.  In order to use a particular library, you need to import the module into the current module.  For example, in order to access the code in the [`requests`](http://docs.python-requests.org/en/master/) library (this will be used later in the course), I could import it as follows and use it to get data from a Web page:"
   ]
  },
  {
   "cell_type": "code",
   "execution_count": 4,
   "metadata": {
    "collapsed": false
   },
   "outputs": [
    {
     "data": {
      "text/plain": [
       "<Response [200]>"
      ]
     },
     "execution_count": 4,
     "metadata": {},
     "output_type": "execute_result"
    }
   ],
   "source": [
    "import requests\n",
    "requests.get('https://southamptondata.science')"
   ]
  },
  {
   "cell_type": "markdown",
   "metadata": {},
   "source": [
    "Alternatively, it is possible to import specific parts of a module.  For example, in order to connect to a MongoDB database, we use the `MongoClient` class in PyMongo.  So, we can do that by using the format `from x import y`.  In the case of `MongoClient`, as follows:"
   ]
  },
  {
   "cell_type": "code",
   "execution_count": 5,
   "metadata": {
    "collapsed": true
   },
   "outputs": [],
   "source": [
    "from pymongo import MongoClient\n",
    "db = MongoClient()"
   ]
  },
  {
   "cell_type": "markdown",
   "metadata": {},
   "source": [
    "To import all of the parts of a module, you can use `from x import *`.  \n",
    "\n",
    "Two other things to note about importing libraries:\n",
    "    \n",
    "1. If you have a file of the name of the module in the same directory as you are calling from, then the first thing that Python will install is that.  You can see that with the import of the `magic` library in the previous notebook.  The code `from magic import *` is in fact importing everything from the `magic.py` file in the same directory as this notebook.\n",
    "\n",
    "2. Another thing you will see in this course is the convention of renaming libraries when they are imported.  It is a convention for NumPy and Pandas in particular to be imported as `np` and `pd` respectively.  This can be achieved as follows:"
   ]
  },
  {
   "cell_type": "code",
   "execution_count": 6,
   "metadata": {
    "collapsed": true
   },
   "outputs": [],
   "source": [
    "import numpy as np\n",
    "import pandas as pd"
   ]
  },
  {
   "cell_type": "markdown",
   "metadata": {},
   "source": [
    "## Conventions\n",
    "\n",
    "If you are coming to Python from another language, there are some other conventions to be aware of which are different from other languages such as C#.  The official [\"PEP 8\" style guide](https://www.python.org/dev/peps/pep-0008/#type-variable-names) contains a list of the different conventions to follow.  It is not required, although recommended to improve readability of code that these be followed.  In particular, try and observe the following:\n",
    "- Variables should be in lower case, and separated by the underscore character `_` for readability.  For example, `simple_var_name`\n",
    "- Classes should start each word with a capital letter without including any spaces or underscore, as in `SimpleClassName`\n",
    "- Indents should be 4 spaces for each block\n",
    "- Multiline comments, i.e., those within `\"\"\"text\"\"\"` blocks should be reserved for documentation purposes\n",
    "\n",
    "If you are interesteed, feel free to read the [\"style guide](https://www.python.org/dev/peps/pep-0008/#type-variable-names)\n",
    "\n"
   ]
  },
  {
   "cell_type": "markdown",
   "metadata": {},
   "source": [
    "## Libraries Included\n",
    "\n",
    "On this course, there are a series of external Python libraries which have been imported for you.  As these libraries develop, they release new versions which fix bugs or add new features.  Occasionally, there is a change in a release which breaks backwards compatibility with previous versions and so it can be helpful to know which versions we are dealing with.  A prime example is Python itself!  Python 2 and Python 3 are very similar, but there are certain things which work in Python 2 which work differently in Python 3.  In addition, Python 3 has developed and added new features which are not necessarily available in Python 2.\n",
    "\n",
    "Where possible, the Python libraries are installed with `conda`, so it is possible to see the versions by using the command `conda list package_name`.  There are two ways to do this.\n",
    "\n",
    "1. Above the tree view of the directory, you can click on New, and then Terminal, and then type that command, where `package_name` is the one you are looking for.\n",
    "\n",
    "2. You can use Jupyter \"magics\".  We don't go into these much on the course, but it is possible to get a Bash shell to write a command in."
   ]
  },
  {
   "cell_type": "code",
   "execution_count": 7,
   "metadata": {
    "collapsed": false
   },
   "outputs": [
    {
     "name": "stdout",
     "output_type": "stream",
     "text": [
      "# packages in environment at /opt/conda:\n",
      "#\n",
      "scikit-image              0.11.3              np110py35_0  \n",
      "scikit-learn              0.18            np110py35_blas_openblas_203  [blas_openblas]  conda-forge\n",
      "scipy                     0.17.1          np110py35_blas_openblas_205  [blas_openblas]  conda-forge\n"
     ]
    }
   ],
   "source": [
    "%%bash\n",
    "# Listing packages which have \"sci\" in them\n",
    "conda list sci"
   ]
  },
  {
   "cell_type": "code",
   "execution_count": 8,
   "metadata": {
    "collapsed": false
   },
   "outputs": [
    {
     "name": "stdout",
     "output_type": "stream",
     "text": [
      "# packages in environment at /opt/conda:\n",
      "#\n",
      "backports.shutil_get_terminal_size 1.0.0                    py35_1    conda-forge\n",
      "beautifulsoup4            4.5.3                    py35_0  \n",
      "blas                      1.1                    openblas    conda-forge\n",
      "bokeh                     0.12.4                   py35_0  \n",
      "bs4                       0.0.1                     <pip>\n",
      "cairo                     1.14.6                        0    conda-forge\n",
      "cloudpickle               0.1.1                    py35_0  \n",
      "conda                     4.2.12                   py35_0  \n",
      "conda-env                 2.6.0                         0  \n",
      "configurable-http-proxy   1.3.1                         0    conda-forge\n",
      "cycler                    0.10.0                   py35_0    conda-forge\n",
      "cython                    0.23.5                   py35_0  \n",
      "decorator                 4.0.10                   py35_0    conda-forge\n",
      "dill                      0.2.5                    py35_1    conda-forge\n",
      "entrypoints               0.2.2                    py35_0    conda-forge\n",
      "fastcache                 1.0.2                    py35_1  \n",
      "flexx                     0.4.1                    py35_0    bokeh\n",
      "fontconfig                2.11.1                        6    conda-forge\n",
      "freetype                  2.6.3                         1    conda-forge\n",
      "gettext                   0.19.7                        1    conda-forge\n",
      "glib                      2.51.0                        2    conda-forge\n",
      "h5py                      2.6.0               np110py35_7    conda-forge\n",
      "harfbuzz                  1.3.4                         0    conda-forge\n",
      "hdf5                      1.8.17                        9    conda-forge\n",
      "icu                       56.1                          4    conda-forge\n",
      "ipykernel                 4.5.2                    py35_0    conda-forge\n",
      "ipython                   5.1.0                    py35_1    conda-forge\n",
      "ipython_genutils          0.1.0                    py35_0    conda-forge\n",
      "ipywidgets                5.2.2                    py35_2    conda-forge\n",
      "jinja2                    2.8                      py35_1    conda-forge\n",
      "jpeg                      9b                            0    conda-forge\n",
      "jsonschema                2.5.1                    py35_0    conda-forge\n",
      "jupyter                   1.0.0                     <pip>\n",
      "jupyter-console           5.1.0                     <pip>\n",
      "jupyter_client            4.4.0                    py35_0    conda-forge\n",
      "jupyter_core              4.2.1                    py35_0    conda-forge\n",
      "jupyterhub                0.7.1                    py35_0    conda-forge\n",
      "libffi                    3.2.1                         3    conda-forge\n",
      "libgcc                    5.2.0                         0  \n",
      "libgfortran               3.0.0                         1  \n",
      "libiconv                  1.14                          4    conda-forge\n",
      "libpng                    1.6.28                        0    conda-forge\n",
      "libsodium                 1.0.10                        0    conda-forge\n",
      "libtiff                   4.0.6                         7    conda-forge\n",
      "libxml2                   2.9.4                         3    conda-forge\n",
      "llvmlite                  0.8.0                    py35_0  \n",
      "lxml                      3.7.2                     <pip>\n",
      "markupsafe                0.23                     py35_1    conda-forge\n",
      "matplotlib                1.5.3               np110py35_5    conda-forge\n",
      "mistune                   0.7.3                    py35_0    conda-forge\n",
      "mpmath                    0.19                     py35_2    conda-forge\n",
      "nbconvert                 4.2.0                    py35_0    conda-forge\n",
      "nbformat                  4.2.0                    py35_0    conda-forge\n",
      "nbgrader                  0.3.3                     <pip>\n",
      "networkx                  1.11                     py35_0    conda-forge\n",
      "nodejs                    6.6.0                         0    conda-forge\n",
      "nomkl                     1.0                           0  \n",
      "nose                      1.3.7                     <pip>\n",
      "notebook                  4.3.1                    py35_0    conda-forge\n",
      "numba                     0.23.1              np110py35_0  \n",
      "numexpr                   2.6.1               np110py35_1    conda-forge\n",
      "numpy                     1.10.4          py35_blas_openblas_205  [blas_openblas]  conda-forge\n",
      "openblas                  0.2.19                        0    conda-forge\n",
      "openssl                   1.0.2j                        0  \n",
      "pamela                    0.3.0                    py35_0    conda-forge\n",
      "pandas                    0.19.2              np110py35_1    conda-forge\n",
      "pango                     1.40.3                        0    conda-forge\n",
      "patsy                     0.4.1                    py35_0    conda-forge\n",
      "pcre                      8.39                          0    conda-forge\n",
      "pexpect                   4.2.1                    py35_0    conda-forge\n",
      "pickleshare               0.7.3                    py35_0    conda-forge\n",
      "pillow                    4.0.0                    py35_0    conda-forge\n",
      "pip                       8.1.2                    py35_0  \n",
      "pixman                    0.34.0                        0    conda-forge\n",
      "prompt_toolkit            1.0.9                    py35_0    conda-forge\n",
      "psycopg2                  2.6.2                     <pip>\n",
      "ptyprocess                0.5.1                    py35_0    conda-forge\n",
      "pycosat                   0.6.1                    py35_1  \n",
      "pycrypto                  2.6.1                    py35_4  \n",
      "pygments                  2.1.3                    py35_1    conda-forge\n",
      "pymongo                   3.4.0                     <pip>\n",
      "pyparsing                 2.1.10                   py35_0    conda-forge\n",
      "python                    3.5.2                         0  \n",
      "python-dateutil           2.6.0                    py35_0    conda-forge\n",
      "pytz                      2016.10                  py35_0    conda-forge\n",
      "pyyaml                    3.11                     py35_0    conda-forge\n",
      "pyzmq                     16.0.2                   py35_0    conda-forge\n",
      "qtconsole                 4.2.1                     <pip>\n",
      "readline                  6.2                           2  \n",
      "requests                  2.11.1                   py35_0  \n",
      "ruamel_yaml               0.11.14                  py35_0  \n",
      "scikit-image              0.11.3              np110py35_0  \n",
      "scikit-learn              0.18            np110py35_blas_openblas_203  [blas_openblas]  conda-forge\n",
      "scipy                     0.17.1          np110py35_blas_openblas_205  [blas_openblas]  conda-forge\n",
      "seaborn                   0.7.1                    py35_0    conda-forge\n",
      "setuptools                27.2.0                   py35_0  \n",
      "simplegeneric             0.8.1                    py35_0    conda-forge\n",
      "sip                       4.18                     py35_1    conda-forge\n",
      "six                       1.10.0                   py35_1    conda-forge\n",
      "sqlalchemy                1.0.13                   py35_0  \n",
      "sqlite                    3.13.0                        0  \n",
      "statsmodels               0.6.1               np110py35_0    conda-forge\n",
      "sympy                     1.0                      py35_0    conda-forge\n",
      "terminado                 0.6                      py35_0    conda-forge\n",
      "tk                        8.5.18                        0  \n",
      "tornado                   4.4.2                    py35_0    conda-forge\n",
      "traitlets                 4.3.0                    py35_0    conda-forge\n",
      "vincent                   0.4.4                    py35_0    conda-forge\n",
      "wcwidth                   0.1.7                    py35_0    conda-forge\n",
      "wheel                     0.29.0                   py35_0  \n",
      "widgetsnbextension        1.2.6                    py35_3    conda-forge\n",
      "xlrd                      1.0.0                    py35_0  \n",
      "xmltodict                 0.10.2                    <pip>\n",
      "xz                        5.2.2                         0  \n",
      "yaml                      0.1.6                         0  \n",
      "zeromq                    4.1.5                         0    conda-forge\n",
      "zlib                      1.2.8                         3  \n"
     ]
    }
   ],
   "source": [
    "%%bash\n",
    "# Listing all Conda packages\n",
    "conda list"
   ]
  }
 ],
 "metadata": {
  "kernelspec": {
   "display_name": "Python 3",
   "language": "python",
   "name": "python3"
  },
  "language_info": {
   "codemirror_mode": {
    "name": "ipython",
    "version": 3
   },
   "file_extension": ".py",
   "mimetype": "text/x-python",
   "name": "python",
   "nbconvert_exporter": "python",
   "pygments_lexer": "ipython3",
   "version": "3.5.2"
  }
 },
 "nbformat": 4,
 "nbformat_minor": 2
}

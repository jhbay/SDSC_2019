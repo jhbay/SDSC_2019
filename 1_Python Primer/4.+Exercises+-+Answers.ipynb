{
 "cells": [
  {
   "cell_type": "markdown",
   "metadata": {},
   "source": [
    "# Exercises\n",
    "\n",
    "In this notebook, we give you some unmarked exercises to try out.  The answers are also provided, but try and work it out yourself first!"
   ]
  },
  {
   "cell_type": "markdown",
   "metadata": {},
   "source": [
    "## Question 1\n",
    "\n",
    "Create a logical sequence for a number in variable `x`.  Choosing your own values:\n",
    "- If the number is too big, you should print the output \"This number is too big\"\n",
    "- If the number is less than or equal to 0, you should print the output \"This number is too small\"\n",
    "- Otherwise, you should print the output \"This is in the correct range\""
   ]
  },
  {
   "cell_type": "code",
   "execution_count": null,
   "metadata": {
    "collapsed": false
   },
   "outputs": [],
   "source": [
    "# YOUR CODE GOES HERE\n",
    "\n",
    "x = 44\n",
    "if x > 50:\n",
    "    print(\"This number is too big\")\n",
    "elif x <= 0:\n",
    "    print(\"The number is too small\")\n",
    "else:\n",
    "    print(\"This is in the correct range\")"
   ]
  },
  {
   "cell_type": "markdown",
   "metadata": {},
   "source": [
    "## Question 2\n",
    "\n",
    "Put the code from Question 1 into a function called `is_number_valid`, which takes a parameter `x`, an integer to test against.  The function should return `True` if the number is the correct value and `False` otherwise"
   ]
  },
  {
   "cell_type": "code",
   "execution_count": null,
   "metadata": {
    "collapsed": true
   },
   "outputs": [],
   "source": [
    "# YOUR CODE GOES HERE\n",
    "\n",
    "def is_number_valid(x):\n",
    "    x = 44\n",
    "    if x > 50:\n",
    "        print(\"This number is too big\")\n",
    "    elif x <= 0:\n",
    "        print(\"The number is too small\")\n",
    "    else:\n",
    "        print(\"This is in the correct range\")"
   ]
  },
  {
   "cell_type": "markdown",
   "metadata": {},
   "source": [
    "## Question 3\n",
    "\n",
    "Look at the documentation for the Python [`range`](https://docs.python.org/3/library/stdtypes.html#range), use range to create a series of loops which do the following:\n",
    "- Start at 0 up to and including 10 and print the output of each value \n",
    "- Start at 30 and go up to and including 40, and print the square of each one (Hint: You can use `**` to square a value)\n",
    "- Start at 100, and go down by 5 every time until you reach 50.  Print half of the value for each iteration."
   ]
  },
  {
   "cell_type": "code",
   "execution_count": null,
   "metadata": {
    "collapsed": false
   },
   "outputs": [],
   "source": [
    "#  YOUR CODE HERE\n",
    "\n",
    "for i in range(11):\n",
    "    print(i)\n",
    "\n",
    "for i in range(30,41):\n",
    "    print(i ** 2)\n",
    "\n",
    "for i in range(100,45, -5):\n",
    "    print(i/2)"
   ]
  },
  {
   "cell_type": "markdown",
   "metadata": {},
   "source": [
    "## Question 4\n",
    "\n",
    "Expand the following class to include the following:\n",
    "- A field called `tutees`, defaulting to an empty `dict`, when filled should have a key of a student's name (string) and a value of their mark (integet)\n",
    "- Two fields `name`, and `subject` (both strings) to be added in the constructor (`__init__` method)\n",
    "- A method `add_student` in the `Lecturer` class which takes a `Student` object as a parameter and adds them to the `tutees` dict.  \n",
    "- A method `update_mark` which takes parameters `student_name`, and `mark` and updates the value `mark` for the entry with the key `student_name`.  If the student does not exist, the method should print a warning\n",
    "- A method `print_tutees`, which iterates through the `Lecturer`'s tutees and prints their name and marks."
   ]
  },
  {
   "cell_type": "code",
   "execution_count": null,
   "metadata": {
    "collapsed": false
   },
   "outputs": [],
   "source": [
    "class Lecturer(object):\n",
    "    name = ''\n",
    "    subject = ''\n",
    "    tutees = {}\n",
    "    \n",
    "    def __init__(self, name, subject):\n",
    "        self.name = name\n",
    "        self.subject = subject\n",
    "\n",
    "        \n",
    "    def add_student(self, name):\n",
    "        # Could be improved by making sure the student does not exist first.\n",
    "        # How would you do that?\n",
    "        self.tutees[name] = ''\n",
    "        \n",
    "    def update_mark(self, name, mark):\n",
    "        if not name in self.tutees:\n",
    "            print('WARNING!  This student %s is not assigned to this lecturer %s' % (name, self.name))\n",
    "        self.tutees[name] = mark\n",
    "        \n",
    "    def print_tutees(self):\n",
    "        for t in self.tutees:\n",
    "            print('%s\\t%d' % (t, self.tutees[t]))\n",
    "        \n",
    "students = ['Bob', 'Ivor', 'Rachel', 'Pat']\n",
    "lec = Lecturer('Huw', 'Data Science')\n",
    "for s in students:\n",
    "    lec.add_student(s)\n",
    "\n",
    "lec.update_mark('Bob', 54)\n",
    "lec.update_mark('Frank', 39)\n",
    "lec.update_mark('Pat', 66)\n",
    "lec.update_mark('Rachel', 92)\n",
    "lec.update_mark('Ivor', 24)\n",
    "\n",
    "lec.print_tutees()"
   ]
  },
  {
   "cell_type": "code",
   "execution_count": null,
   "metadata": {
    "collapsed": true
   },
   "outputs": [],
   "source": []
  }
 ],
 "metadata": {
  "kernelspec": {
   "display_name": "Python 3",
   "language": "python",
   "name": "python3"
  },
  "language_info": {
   "codemirror_mode": {
    "name": "ipython",
    "version": 3
   },
   "file_extension": ".py",
   "mimetype": "text/x-python",
   "name": "python",
   "nbconvert_exporter": "python",
   "pygments_lexer": "ipython3",
   "version": "3.5.2"
  }
 },
 "nbformat": 4,
 "nbformat_minor": 2
}

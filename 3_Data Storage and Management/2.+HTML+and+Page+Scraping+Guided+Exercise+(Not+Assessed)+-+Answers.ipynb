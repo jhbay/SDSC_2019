{
 "cells": [
  {
   "cell_type": "markdown",
   "metadata": {},
   "source": [
    "# HTML and Page Scraping Guided Exercise\n",
    "\n",
    "In this guided exercise, we are going to look at a few of the programming libraries you are going to need for the first assessment.  We are going to cover:\n",
    "\n",
    "- HTML\n",
    "- RobotParser\n",
    "- Python Requests and Beautiful Soup\n"
   ]
  },
  {
   "cell_type": "markdown",
   "metadata": {},
   "source": [
    "## HTML\n",
    "\n",
    "HTML is a markup language where content can be represented in a manner which Web browsers can understand.  It is distinct from the _style_ of the display, which is dealt with by Cascading Style Sheets (CSS).  It is composed of a series of _tags_ and attributes.  The following Python variable represents an HTML document, which is structured as follows:"
   ]
  },
  {
   "cell_type": "code",
   "execution_count": 2,
   "metadata": {
    "collapsed": false
   },
   "outputs": [],
   "source": [
    "# Make sure that you run this code as this will be interrogated later in this exercise\n",
    "html = \"\"\"\n",
    "    <html>\n",
    "        <head>\n",
    "            <!--Metadata about the document goes within the <head> tag, including Stylesheet declarations, title and \n",
    "            encoding-->\n",
    "            <title>Example HTML Structure</title>\n",
    "            <style type=\"text/css\">\n",
    "                body{\n",
    "                    font-size:12pt;\n",
    "                }\n",
    "                table{\n",
    "                    border: solid 1px black;\n",
    "                }\n",
    "            </style>\n",
    "            <link href=\"/style.css\" rel=\"stylesheet\">\n",
    "            <meta charset=\"utf-8\">\n",
    "            <meta name=\"viewport\" content=\"width=device-width, initial-scale=1.0\">\n",
    "        </head>\n",
    "        \n",
    "        <body>\n",
    "            <div id=\"main\" class=\"classy\">\n",
    "                <h1>The Main Content of the Document</h1>\n",
    "                \n",
    "                <p>This is some content inside a &lt;p&gt; tag.  It is normal writing.  It can contain other tags\n",
    "                within it.  For example, to emphasise a word I would use <em>the &lt;em&gt; tag</em>, or to move\n",
    "                onto a new ine I could use the &lt;br /&gt; tag.\n",
    "                </p>\n",
    "                \n",
    "                <table>\n",
    "                    <tr>\n",
    "                        <th>Table heading cell</th><th>Another heading</th>\n",
    "                    </tr>\n",
    "                    <tr>\n",
    "                        <td>Normal table cell</td><td>This cell has a link going <a href=\"#\">Somewhere</a></td>\n",
    "                    </tr>\n",
    "                </table>\n",
    "            \n",
    "            </div>\n",
    "            \n",
    "            <div id=\"another_div\" class=\"classy\">\n",
    "                <ul>\n",
    "                    <li>A list item</li>\n",
    "                    <li>And another list item</li>                    \n",
    "                </ul>\n",
    "                <ol>\n",
    "                    <li>This list item is numbered</li>\n",
    "                    <li>So is this one</li>\n",
    "                </ol>\n",
    "                <table>\n",
    "                    <tr>\n",
    "                        <th>Table 2</th><th>A second heading</th>\n",
    "                    </tr>\n",
    "                    <tr>\n",
    "                        <td>Cool content</td><td>This cell has a link going <a href=\"#\">Somewhere</a></td>\n",
    "                    </tr>\n",
    "                </table>                \n",
    "            </div>\n",
    "        </body>\n",
    "    </html>\n",
    "\"\"\"\n"
   ]
  },
  {
   "cell_type": "markdown",
   "metadata": {},
   "source": [
    "There's a lot going on in that HTML snippet, so let's break it down:\n",
    "## Tags\n",
    "\n",
    "Each tag of the form &lt;tagname&gt; represents a HTML element.  Usually, the tags are closed with a tag of the same name but including `/` after the opening bracket, for example &lt;/tagname&gt;, like `<body></body>`.  These tags can have other tags and content inside them.  Notice that `<body>` has a `<div>` tag inside it.  `<div>` doesn't do much, but merely acts as a logical area of the document which can be referred to later (e.g., for styling).\n",
    "\n",
    "For the most part, the tags represent some sort of content.  A `<h1>` tag would represent a heading, with `<h2>` down to `<h6>` being subheadings.  You can see a `<p>` tag - which stands for paragraph, which opens and closes such that everything inside it represents a single paragraph.\n",
    "\n",
    "There is a `<table>` tag as well, which represents a table.  Inside this tag, you will notice that there are many other tags inside that representing rows and cells.\n",
    "\n",
    "Although most tags follow the format of opening and closing tags, some are different - referred to as \"self closing\" tags.  These don't need to have any content inside them, but represent some part of the document.  The most common example is the breakline `<br />` tag, which moves content on to the next row.  \n",
    "\n",
    "There are also special tags, which are used for different purposes:\n",
    "- Comments, written as `<!-- A useful comment here -->` do not count as content, but rather are there to document the code.\n",
    "- The `<style>` tag means that anything inside that will be a stylesheet, which will almost always be in CSS.  This allows separation of the content (the rest of the HTML document) and the styling (this tag).  It is also possible to link to CSS in an external file.  We don't cover CSS in this course, but check out [this CSS tutorial](https://www.w3schools.com/css/default.asp) if you are interested.\n",
    "- The `<script>` tag (not included in this document) includes some form of scripting done by the browser. This will almost always be Javascript.\n",
    "\n",
    "\n",
    "\n",
    "### Test Yourself\n",
    "In the next cell, try and write a paragraph tag with some text inside it including at least one breakline.\n",
    "\n",
    " N.B. make sure that 'Markdown' format has been selected."
   ]
  },
  {
   "cell_type": "markdown",
   "metadata": {
    "collapsed": true
   },
   "source": [
    "YOUR HTML HERE\n",
    "\n",
    "    <p>\n",
    "    This is some content inside a &lt;p&gt; tag.  It is like normal writing.  \n",
    "    For example, to emphasise a word I would use the &lt;em&gt;tag&lt;/em&gt; \n",
    "    or to move onto a new line I could use the &lt;br /&gt; tag.\n",
    "    And then keep writing like this    \n",
    "    </p>"
   ]
  },
  {
   "cell_type": "markdown",
   "metadata": {},
   "source": [
    "## Attributes\n",
    "\n",
    "Several of the cells also have attributes, which is the quoted text within the opening tag.  There are three attributes which are important to know:\n",
    "- `href=\"\"` is used within an anchor or &lt;a&gt; tag and represents the hyperlink to another resource such as another page.  So `<a href=\"http://example.com\">Destination Link</a>` will have the text \"Destination Link\" which when clicked on it will go to http://example.com\n",
    "- `id` represents the ID of a element.  This should be unique within a page.  It is often used for styling, but can be very useful for pagescraping, because it can be used to identify an element of interest\n",
    "- `class` is similar to `id`, but it is used by more than one of the instances of a particular tag, but more specific than a general style.\n",
    "- There are also some `<meta>` tags, which simply provide metadata about the document itself.  These provide information about the document itself.  These usually have an attribute `name=\"\"` and `content=\"\"`.  Full details of the `<meta>` tags can be found at [w3schools](https://www.w3schools.com/tags/tag_meta.asp)\n",
    "\n",
    "### Test Yourself\n",
    "\n",
    "In the cell below, write an anchor tag which links to http://southamptondata.science with the text \"Data Science!\" inside it\n"
   ]
  },
  {
   "cell_type": "markdown",
   "metadata": {
    "collapsed": true,
    "nbgrader": {
     "grade": false,
     "locked": false,
     "solution": false
    }
   },
   "source": [
    "YOUR HTML HERE\n",
    "\n",
    "    Here is a link: <a href=\"http://southamptondata.science\">Data Science!</a>\n",
    "    "
   ]
  },
  {
   "cell_type": "markdown",
   "metadata": {},
   "source": [
    "## Scraping With Requests and Beautiful Soup\n",
    "\n",
    "Python has got its own libraries for dealing with HTTP, but at least historically, they required a lot of low level effort to get them to work properly.  The Python requests library abstracts a lot of that away, and makes it incredibly easy to simply download a page.  The syntax is simple.  To get a page, all you need to do is say which request verb you want (usually `get`) and write it as follows:\n",
    "\n",
    "N.B. The version of Python Requests running on this server is 2.11.1, which was released in August 2016.  This makes a change to the function which processes the headers passed to any function.  Previously, any variable type was allowed in the header e.g. integers, floats, etc., but the version previous to 2.11.1 implemented a security improvement such that the value has to be a string.  \n",
    "\n",
    "For example, you would put in `headers = {'header-name': '2'}`\n",
    "\n",
    "Below is an example of using the Python requests library.  Running the code cell will output a code - for your own interest why not look up this code online.  What does it mean and what other code are there?"
   ]
  },
  {
   "cell_type": "code",
   "execution_count": 3,
   "metadata": {
    "collapsed": false
   },
   "outputs": [
    {
     "data": {
      "text/plain": [
       "'<!doctype html>\\r\\n<html lang=\"en\" class=\"no-js\">\\r\\n<head><meta charset=\"utf-8\" /><meta http-equiv=\"X-UA-Compatible\" content=\"IE=edge\" /><meta name=\"language\" content=\"en\" /><meta name=\"generator\" content=\"Isle Interactive Ltd\" /><meta name=\"designer\" content=\"Isle Interactive Ltd\" /><meta name=\"viewport\" content=\"initial-scale=1.0, width=device-width\" /><meta name=\"application-name\" content=\"CEG Digital Southampton\" /><meta name=\"msapplication-TileColor\" content=\"#ffffff\" /><meta name=\"msapplication-TileImage\" content=\"/_img/tile.png\" />\\r\\n        <meta name=\"robots\" content=\"index, follow\" />\\r\\n    <meta name=\"revisit-after\" content=\"14 days\" /><meta name=\"google-site-verification\" content=\"LmoHnAS6r540RRceWUi8Hil9zxxhUZC1RER9NM2SRD8\" />\\r\\n\\t<!-- Google Tag Manager -->\\r\\n    <script>(function(w,d,s,l,i){w[l]=w[l]||[];w[l].push({\\'gtm.start\\':\\r\\n    new Date().getTime(),event:\\'gtm.js\\'});var f=d.getElementsByTagName(s)[0],\\r\\n    j=d.createElement(s),dl=l!=\\'dataLayer\\'?\\'&l=\\'+l:\\'\\';j.async=true;j.src=\\r\\n    \\'https://www.googletagmanager.com/gtm.js?id=\\'+i+dl;f.parentNode.insertBefore(j,f);\\r\\n    })(window,document,\\'script\\',\\'dataLayer\\',\\'GTM-5XFKB6X\\');</script>\\r\\n    <!-- End Google Tag Manager -->\\r\\n\\r\\n\\r\\n    <link rel=\"stylesheet\" href=\"//fonts.googleapis.com/css?family=Open+Sans:300,300i,400,400i,600,600i\" /><link rel=\"stylesheet\" href=\"/_styles/core.css?v6\" media=\"screen\" /><link rel=\"stylesheet\" href=\"/_styles/layout.css?v10\" media=\"screen\" /><link href=\"/_styles/lightslider.css\" rel=\"stylesheet\" /><link rel=\"shortcut icon\" href=\"/favicon.ico\" /><link rel=\"icon\" href=\"/favicon.png\" /><link rel=\"image_src\" href=\"/_img/preview.gif\" /><link rel=\"apple-touch-icon\" href=\"/_img/touch-icon-iphone.png\" /><link rel=\"apple-touch-icon\" href=\"/_img/touch-icon-iphone4.png\" sizes=\"114x114\" /><link rel=\"apple-touch-icon\" href=\"/_img/touch-icon-ipad.png\" sizes=\"72x72\" /><link rel=\"apple-touch-icon\" href=\"/_img/touch-icon-ipad-high.png\" sizes=\"144x144\" />\\r\\n\\r\\n    <script src=\"//ajax.googleapis.com/ajax/libs/jquery/1.11.3/jquery.min.js\"></script>\\r\\n    <script>!window.jQuery && document.write(\\'<script src=\"/_scripts/jquery.js\"><\\\\/script>\\')</script>\\r\\n    <script src=\"/_scripts/modernizr.js\"></script>\\r\\n\\t<script src=\"/_scripts/core.js?v1\"></script>\\r\\n    <script src=\"/_scripts/lightslider.min.js\"></script>\\r\\n    <script src=\"//use.fontawesome.com/08d0dae58b.js\"></script>\\r\\n<meta name=\"Description\" content=\"Discover how you can study Data Science online with the Southampton Data Science Academy. Get started here, by learning about who we are and what we offer.\" /><title>\\r\\n\\tStudy Data Science Online | Southampton Data Science Academy\\r\\n</title></head>\\r\\n\\r\\n<body  id=\"home\">\\r\\n\\r\\n\\t<!-- Google Tag Manager (noscript) -->\\r\\n    <noscript><iframe src=\"https://www.googletagmanager.com/ns.html?id=GTM-5XFKB6X\"\\r\\n    height=\"0\" width=\"0\" style=\"display:none;visibility:hidden\"></iframe></noscript>\\r\\n    <!-- End Google Tag Manager (noscript) -->\\r\\n\\r\\n\\r\\n    <form method=\"post\" action=\"/\" id=\"form1\">\\r\\n<div class=\"aspNetHidden\">\\r\\n<input type=\"hidden\" name=\"__VIEWSTATE\" id=\"__VIEWSTATE\" value=\"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\" />\\r\\n</div>\\r\\n\\r\\n\\r\\n<script src=\"/ScriptResource.axd?d=bGx3djoqipY66EtuXAzBjbjlL88BZ-ltqtlflpVNKtvbEqq4fNNc9R88JMfTZqoE3R2iFQj1XtRETn1ERZcT24BdkYIt-3waS_8bzBb41hmEkJiE-ATsEjWN5YFtA-3SHYhAqOW5VWaM1bW4TlNDpmPmRpK5gbHOkXabzW-Id3z7rmcSqgZYFYnAkoZEOvha0&amp;t=ffffffffa580202a\" type=\"text/javascript\"></script>        \\r\\n        \\r\\n\\r\\n<header>\\r\\n    <noscript>\\r\\n        <div class=\"msg msgError nojavascript\">\\r\\n            <p>\\r\\n\\tThis site requires JavaScript for certain functions and interactions to work. Please turn on JavaScript for the best possible experience.</p>\\r\\n        </div>\\r\\n    </noscript>\\r\\n\\r\\n    <div class=\"container\">\\r\\n        <a href=\"/\" class=\"logo hideText\">CEG Digital Southampton</a>\\r\\n\\r\\n        <div class=\"strapline\">\\r\\n            Presented by the Web Science Institute at the University of Southampton\\r\\n        </div>\\r\\n\\r\\n        <a href=\"/enrol/contact.htm\" class=\"btn btnImpact trkcontactus\">Request Information</a>\\r\\n\\t\\t\\r\\n\\t\\t<div class=\"info\">\\r\\n\\t\\t\\tT: <a href=\"tel:+441223447775\" >+441223447775</a>\\r\\n\\t\\t</div>\\r\\n\\r\\n        <div class=\"social\">\\r\\n            <a href=\"https://www.facebook.com/Southampton-Data-Science-Academy-1249091145212074/\" target=\"_blank\"><i class=\"fa fa-facebook\" aria-hidden=\"true\"></i></a>\\r\\n            <a href=\"https://twitter.com/southamptondata\" target=\"_blank\"><i class=\"fa fa-twitter\" aria-hidden=\"true\"></i></a>\\r\\n            <a href=\"https://www.linkedin.com/company/southamptondatascienceacademy\" target=\"_blank\"><i class=\"fa fa-linkedin\" aria-hidden=\"true\"></i></a>\\r\\n        </div>\\r\\n\\r\\n        <span class=\"menuTrigger\">Menu</span>\\r\\n        <nav class=\"menu\">\\r\\n            <ul><li class=\"liOn\"><a href=\"/\" class=\"on\" title=\"Study Data Science Online | Southampton Data Science Academy\"><span>Home</span></a></li><li class=\"liHasChildren\"><a href=\"/about-us.htm\" title=\"About Southampton Data Science Academy | Study Data Science\"><span>About us</span></a><ul><li><a href=\"/about-us/how-you-ll-learn.htm\" title=\"How you&#39;ll learn\"><span>How you\\'ll learn</span></a></li><li><a href=\"/about-us/events.htm\" title=\"Events\"><span>Events</span></a></li><li><a href=\"http://hs.southamptondata.science/\" title=\"Blog\"><span>Blog</span></a></li></ul></li><li class=\"liHasChildren\"><a href=\"/courses.htm\" title=\"Short Online Courses in Data Science | Data Science Career\"><span>Courses</span></a><ul><li><a href=\"/courses/ai-and-machine-learning-for-business.htm\" title=\"AI and Machine Learning for Business\"><span>AI and Machine Learning for Business</span></a></li><li><a href=\"/courses/fundamentals-of-data-science.htm\" title=\"Fundamentals of Data Science Course | Become Data Scientist\"><span>Fundamentals of Data Science (Technical)</span></a></li><li><a href=\"/courses/fundamentals-of-data-science-non-technical.htm\" title=\"Fundamentals of Data Science (Non-Technical) | Online Data Analyst Courses\"><span>Fundamentals of Data Science (Non-Technical)</span></a></li><li><a href=\"/courses/data-security-technical.htm\" title=\"Data Security (Technical) Course | Become a Data Scientist\"><span>Data Security (Technical)</span></a></li><li><a href=\"/courses/data-security-non-technical.htm\" title=\"Data Security (Non-Technical) | Become a Data Scientist\"><span>Data Security (Non-Technical)</span></a></li><li><a href=\"/courses/data-science-for-digital-marketing.htm\" title=\"Data Science for Digital Marketing | Online Data Analysis Courses\"><span>Data Science for Digital Marketing</span></a></li><li><a href=\"/courses/corporate-packages.htm\" title=\"Data Science Courses for Corporations, Governments &amp; Charity\"><span>In-house</span></a></li></ul></li><li class=\"liHasChildren\"><a href=\"/enrol.htm\" title=\"Enrol\"><span>Enrol</span></a><ul><li><a href=\"/enrol/contact.htm\" title=\"Contact &amp; Enquiries | Online Data Science &amp; Analysis Courses\"><span>Contact</span></a></li><li><a href=\"/enrol/apply.htm\" title=\"Apply to Southampton Data Science Academy | Online Courses\"><span>Apply</span></a></li></ul></li></ul>\\r\\n        </nav>\\r\\n\\t</div>\\r\\n</header>\\r\\n        \\r\\n    \\r\\n    \\r\\n\\r\\n<main>\\r\\n    <div class=\"hero\">\\r\\n        \\r\\n        <span style=\\'background-image: url(/ugc-1/banners/banner/23/18.jpg);\\'></span> <div><h2>Exclusive AI event</h2> <p><a href=\"https://hubs.ly/H0gtN3b0\" target=\"_blank\" class=\"btn btnImpact trkwebinar\">Keynote with Professor Dame Wendy Hall</a></p></div>\\r\\n\\r\\n\\r\\n\\r\\n        \\r\\n    </div>\\r\\n\\r\\n    <div class=\"template\">\\r\\n        <div class=\"container\">\\r\\n            <section>\\r\\n                <div class=\"introText\">\\r\\n\\r\\n    <div class=\"cols colsHalf\">\\r\\n      <div class=\"col\">\\r\\n        <h1>Master the powerful tools of data science</h1>\\r\\n      </div>\\r\\n      <div class=\"col endCol\">\\r\\n        <h3>Southampton Data Science Academy</h3>\\r\\n        <p>Gain and leverage the data insights you need to advance your career and your business.</p>\\r\\n        <p><a class=\"btn\" href=\"/about-us.htm\">Discover more</a></p>\\r\\n      </div>\\r\\n    </div>\\r\\n\\r\\n</div>\\r\\n  <div class=\"cols colsThird uspBoxes\">\\r\\n    <div class=\"col\">\\r\\n      <h2>Courses delivered 100% online</h2>\\r\\n      <p>Flexibility to learn at a pace that suits you</p>\\r\\n    </div>\\r\\n    <div class=\"col\">\\r\\n      <h2>Hands-on learning</h2>\\r\\n      <p>Use real-life business examples and immediately apply your learnings to your work</p>\\r\\n    </div>\\r\\n    <div class=\"col endCol\">\\r\\n      <h2>Access to world-class teaching</h2>\\r\\n      <p>Our team of industry-leading experts are renowned for their data science work</p>\\r\\n    </div>\\r\\n  </div>\\r\\n\\r\\n            </section>\\r\\n        </div>\\r\\n\\r\\n        <section>\\r\\n            <div class=\"offer\">\\r\\n  <img src=\"/ugc-1/banners/banner/24/19.jpg\" />\\r\\n  <div>\\r\\n    <h2>Boost your data literacy</h2>\\r\\n    <p><iframe src=\"https://fast.wistia.net/embed/iframe/vgtfi11nk0\" title=\"The Southampton Data Science Academy Video\" allowtransparency=\"true\" frameborder=\"0\" scrolling=\"no\" class=\"wistia_embed\" name=\"wistia_embed\" allowfullscreen mozallowfullscreen webkitallowfullscreen oallowfullscreen msallowfullscreen width=\"640\" height=\"360\"></iframe>\\r\\n<script src=\"https://fast.wistia.net/assets/external/E-v1.js\" async></script><p>Southampton Data Science Academy courses have been developed and are taught by industry-leading experts in data science. They will equip you with the in-depth knowledge and skills you need to understand and apply data to your work..</p></p>\\r\\n    <p><a class=\"btn btnImpact\" href=\"http://southamptondata.science/about-us.htm\">Find out more</a></p>\\r\\n </div>\\r\\n</div>\\r\\n\\r\\n\\r\\n\\r\\n        </section>\\r\\n\\r\\n        <div class=\"container\">\\r\\n            <div class=\"fundamentalsSection\">\\r\\n                <div class=\"grid newLayout\">\\r\\n\\r\\n\\r\\n<div class=\"banner bannersrepeater\">\\r\\n    <ul>\\r\\n        \\r\\n        <li>\\r\\n\\t<a href=\"/courses/ai-for-business.htm\">\\r\\n  \\t<img src=\"/ugc-1/banners/banner/30/41.jpg\" />\\r\\n    <div>\\r\\n      <h2>AI and Machine Learning for Business</h2>\\r\\n      <p>Gain an in-depth understanding of core AI capabilities and how they can be applied within your organisation.</p>\\r\\n    </div>\\r\\n\\t</a>\\r\\n</li>\\r\\n\\r\\n\\r\\n\\r\\n    \\r\\n        <li>\\r\\n\\t<a href=\"/courses/fundamentals-of-data-science.htm\">\\r\\n  \\t<img src=\"/ugc-1/banners/banner/25/36.jpg\" />\\r\\n    <div>\\r\\n      <h2>Fundamentals of Data Science (Technical)</h2>\\r\\n      <p>Learn the technical skills you need to apply the powerful insights of data science to your work.</p>\\r\\n    </div>\\r\\n\\t</a>\\r\\n</li>\\r\\n\\r\\n\\r\\n\\r\\n    \\r\\n        <li>\\r\\n\\t<a href=\"/courses/fundamentals-of-data-science-non-technical.htm\">\\r\\n  \\t<img src=\"/ugc-1/banners/banner/27/38.jpg\" />\\r\\n    <div>\\r\\n      <h2>Fundamentals of Data Science (Non-Technical)</h2>\\r\\n      <p>Gain a hands-on approach to data and the skills and expertise you need to work better with data.</p>\\r\\n    </div>\\r\\n\\t</a>\\r\\n</li>\\r\\n\\r\\n\\r\\n\\r\\n    \\r\\n        <li>\\r\\n\\t<a href=\"/courses/data-security-technical.htm\">\\r\\n  \\t<img src=\"/ugc-1/banners/banner/28/39.jpg\" />\\r\\n    <div>\\r\\n      <h2>Data Security (Technical)</h2>\\r\\n      <p>Acquire the skills to securely manage personal data in line with GDPR requirements and mitigate IT system risks.</p>\\r\\n    </div>\\r\\n\\t</a>\\r\\n</li>\\r\\n\\r\\n\\r\\n\\r\\n    \\r\\n        <li>\\r\\n\\t<a href=\"/courses/data-security-non-technical.htm\">\\r\\n  \\t<img src=\"/ugc-1/banners/banner/29/40.jpg\" />\\r\\n    <div>\\r\\n      <h2>Data Security (Non-Technical)</h2>\\r\\n      <p>Understand the techniques used to assess cyber security risks and implement risk mitigation strategies.</p>\\r\\n    </div>\\r\\n\\t</a>\\r\\n</li>\\r\\n\\r\\n\\r\\n\\r\\n    \\r\\n        <li>\\r\\n\\t<a href=\"/courses/data-science-for-digital-marketing.htm\">\\r\\n  \\t<img src=\"/ugc-1/banners/banner/26/37.jpg\" />\\r\\n    <div>\\r\\n      <h2>Data Science for Digital Marketing</h2>\\r\\n      <p>Improve your marketing insights by learning how to effectively use data and data science techniques.</p>\\r\\n    </div>\\r\\n\\t</a>\\r\\n</li>\\r\\n\\r\\n\\r\\n\\r\\n    \\r\\n\\r\\n\\r\\n\\r\\n\\r\\n\\r\\n\\r\\n    </ul>\\r\\n</div><div class=\"aboutbox box\" style=\"background-image: url(/ugc-1/banners/banner/3/11.jpg);\">\\r\\n  <h3><a href=\"/about-us.htm\">About us</a></h3>\\r\\n  <p>No matter what your role in your organisation, you’ll inevitably encounter data in your day-to-day role.</p>\\r\\n  <p>Boost your data literacy by taking a short course in data science that you can study flexibly, alongside your work and personal commitments.</p>\\r\\n  <a href=\"/about-us.htm\" class=\"btn\">Find out more</a>\\r\\n</div><div class=\"box corporatebox\" style=\"background-image: url(/ugc-1/banners/banner/9/13.jpg);\">\\r\\n  <h3><a href=\"/courses/corporate-packages.htm\">In-house</a></h3>\\r\\n  <p>All our online data science courses can be tailored to suit your individual organisation’s needs. </p>\\r\\n  <p>Empower your employees to master the powerful tools of data science and effectively apply them to their work – no matter what their role.</p>\\r\\n  <a href=\"/courses/corporate-packages.htm\" class=\"btn btnImpact\">Find out more</a>\\r\\n</div><div class=\"box boxblue enquirybox\">\\r\\n\\t<h3>Request information</h3>\\r\\n  <div id=\"requestForm\">\\r\\n    <!--[if lte IE 8]>\\r\\n    <script charset=\"utf-8\" type=\"text/javascript\" src=\"//js.hsforms.net/forms/v2-legacy.js\"></script>\\r\\n    <![endif]-->\\r\\n    <script charset=\"utf-8\" type=\"text/javascript\" src=\"//js.hsforms.net/forms/v2.js\"></script>\\r\\n    <script>\\r\\n      hbspt.forms.create({\\r\\n      portalId: \"4159961\",\\r\\n      target: \\'#requestForm\\',\\r\\n      formId: \"55f6a38c-c26c-47ba-b2e7-f246c20db716\",\\r\\n      css: \"\"\\r\\n    });\\r\\n    </script>\\r\\n  </div>\\r\\n</div></div>\\r\\n            </div>\\r\\n        </div>\\r\\n    </div>\\r\\n\\r\\n    \\r\\n        <div class=\"quote\">\\r\\n            <div class=\"skinny\">\\r\\n                \\r\\n\\r\\n\\r\\n<div class=\"banner bannersrepeater\">\\r\\n    <ul>\\r\\n        \\r\\n        <li>\\r\\n  <blockquote>\\r\\n      <p>With these new online courses, we reach out to decision makers, business analysts, IT developers, and other groups of practitioners interested in learning about some of the most promising technologies and application domains in data science, including digital marketing, finances, and healthcare</p>\\r\\n      <cite>Dr Elena Simperl, CPD Programme Leader, WSI Associate Professor and Scientific Director of the European Data Science Academy</cite>\\r\\n  </blockquote>\\r\\n</li>\\r\\n\\r\\n\\r\\n\\r\\n    \\r\\n        <li>\\r\\n  <blockquote>\\r\\n      <p>Coming from a GIS background this course has really broadened my capabilities within Data Science and filled the gaps in my skills that I need to evolve my career.</p>\\r\\n      <cite>GeoSpatial Technology & Information Management Consultant, ARUP</cite>\\r\\n  </blockquote>\\r\\n</li>\\r\\n\\r\\n\\r\\n\\r\\n    \\r\\n        <li>\\r\\n  <blockquote>\\r\\n      <p>The flexible model of the course lets us balance staff training alongside our commitments to our clients.</p>\\r\\n      <cite>Data and Systems Architect at ARUP</cite>\\r\\n  </blockquote>\\r\\n</li>\\r\\n\\r\\n\\r\\n\\r\\n    \\r\\n        <li>\\r\\n  <blockquote>\\r\\n      <p>The flexible nature of the course is a great idea given that many of the clientele are working in full time jobs</p>\\r\\n      <cite>Head of Data Science, QBE Insurance</cite>\\r\\n  </blockquote>\\r\\n</li>\\r\\n\\r\\n\\r\\n\\r\\n    \\r\\n        <li>\\r\\n  <blockquote>\\r\\n      <p>I was very happy to see the more modern languages and tools being used in the course as these are the industry standard.\\r\\n\\r\\nThe course has helped me reassess the way we approach things at QBE from both a technological and infrastructure standpoint.</p>\\r\\n      <cite>Analyst, QBE Insurance</cite>\\r\\n  </blockquote>\\r\\n</li>\\r\\n\\r\\n\\r\\n\\r\\n    \\r\\n        <li>\\r\\n  <blockquote>\\r\\n      <p>I really liked the development environment of the course as it was flexible, easy to use and great for experimentation.\\r\\nThe course came at the perfect time as we were starting to move from SQL to NoSQL so this element of the course was very interesting and I learnt a lot that will help.</p>\\r\\n      <cite>Technical Consultant, Ordnance Survey</cite>\\r\\n  </blockquote>\\r\\n</li>\\r\\n\\r\\n\\r\\n\\r\\n    \\r\\n        <li>\\r\\n  <blockquote>\\r\\n      <p>I’ve already noticed that after 4 weeks I’m speaking more confidently and know where to look for things.\\r\\nThe online platform was easy to use and intuitive with course dates, requirements, deadlines etc very clear and in one place; a great infrastructure!</p>\\r\\nIf I was applying for a Data Science job I’d want this on my CV</p>\\r\\n      <cite>Statistician, Office for National Statistics</cite>\\r\\n  </blockquote>\\r\\n</li>\\r\\n\\r\\n\\r\\n\\r\\n    \\r\\n        <li>\\r\\n  <blockquote>\\r\\n      <p>As our staff are very geographically dispersed, this online option and modular approach with its accessibility was of huge importance.</p>\\r\\n      <cite>Assistant Deputy Director- Government Statistical Service Profession at Office for National Statistics</cite>\\r\\n  </blockquote>\\r\\n</li>\\r\\n\\r\\n\\r\\n\\r\\n    \\r\\n        <li>\\r\\n  <blockquote>\\r\\n      <p>This course has given me a much broader knowledge of what can be done with data and I’m much better prepared to work with data than before.</p>\\r\\n      <cite>Data Analyst, Land Registry</cite>\\r\\n  </blockquote>\\r\\n</li>\\r\\n\\r\\n\\r\\n\\r\\n    \\r\\n        <li>\\r\\n  <blockquote>\\r\\n      <p>It was great that our Data Analyst was still able to do his job whilst he was learning.</p>\\r\\n      <cite>Head of Data Capture and Management, Land Registry</cite>\\r\\n  </blockquote>\\r\\n</li>\\r\\n\\r\\n\\r\\n\\r\\n    \\r\\n        <li>\\r\\n  <blockquote>\\r\\n      <p>Getting access to the tutors is one of the great benefits of this course; not all courses provide this. I’ve seen that this course has helped our Digital Insight Analyst realise that the transitions he wanted to make are very achievable.\\r\\nThe flexible method is great. It’d be difficult to commit to a set time on set days; our Digital Insight Analyst has been able to fit around his lifestyle and work commitments without any negative impacts.</p>\\r\\n      <cite>Digital Analytics Manager, Shop Direct</cite>\\r\\n  </blockquote>\\r\\n</li>\\r\\n\\r\\n\\r\\n\\r\\n    \\r\\n        <li>\\r\\n  <blockquote>\\r\\n      <p>As I’m mostly self-taught this course has made me aware of the gaps in my knowledge. I’ve been able to start thinking how I can put these new skills to use in my own work, including bringing in other data sets, using web scraping tools and validating outputs.</p>\\r\\n      <cite>Digital Insight Analyst, Shop Direct</cite>\\r\\n  </blockquote>\\r\\n</li>\\r\\n\\r\\n\\r\\n\\r\\n    \\r\\n        <li>\\r\\n  <blockquote>\\r\\n      <p>I found the course to be very good introduction to the underpinning technology stack used by Data Scientists. The syllabus includes core concepts and technologies, data collection and management and data visualisation. What I found particularly useful was the group and individual online tutorials where you can ask questions regarding the course material or assignment questions.\\r\\n</p>\\r\\n      <cite>Business Intelligence Architect, National Institute for Health Research</cite>\\r\\n  </blockquote>\\r\\n</li>\\r\\n\\r\\n\\r\\n\\r\\n    \\r\\n        <li>\\r\\n  <blockquote>\\r\\n      <p>We’ve had 40 people enrol. From this, we realised we’ve got these hidden data people across the organisation that we’re now bringing together through education about data science.</p>\\r\\n      <cite>Head of data strategy at Lloyd\\'s of London</cite>\\r\\n  </blockquote>\\r\\n</li>\\r\\n\\r\\n\\r\\n\\r\\n    \\r\\n\\r\\n\\r\\n\\r\\n\\r\\n\\r\\n\\r\\n    </ul>\\r\\n</div>\\r\\n            </div>\\r\\n        </div>\\r\\n    \\r\\n</main>\\r\\n    \\r\\n        \\r\\n        \\r\\n\\r\\n<footer>\\r\\n    <div class=\"container\">\\r\\n        <div class=\"links\">\\r\\n            <h4><a href=\"/courses.htm\">Our courses</a></h4>\\r\\n            <ul><li><a href=\"/courses/ai-and-machine-learning-for-business.htm\" title=\"AI and Machine Learning for Business\"><span>AI and Machine Learning for Business</span></a></li><li><a href=\"/courses/fundamentals-of-data-science.htm\" title=\"Fundamentals of Data Science Course | Become Data Scientist\"><span>Fundamentals of Data Science (Technical)</span></a></li><li><a href=\"/courses/fundamentals-of-data-science-non-technical.htm\" title=\"Fundamentals of Data Science (Non-Technical) | Online Data Analyst Courses\"><span>Fundamentals of Data Science (Non-Technical)</span></a></li><li><a href=\"/courses/data-security-technical.htm\" title=\"Data Security (Technical) Course | Become a Data Scientist\"><span>Data Security (Technical)</span></a></li><li><a href=\"/courses/data-security-non-technical.htm\" title=\"Data Security (Non-Technical) | Become a Data Scientist\"><span>Data Security (Non-Technical)</span></a></li><li><a href=\"/courses/data-science-for-digital-marketing.htm\" title=\"Data Science for Digital Marketing | Online Data Analysis Courses\"><span>Data Science for Digital Marketing</span></a></li><li><a href=\"/courses/corporate-packages.htm\" title=\"Data Science Courses for Corporations, Governments &amp; Charity\"><span>In-house</span></a></li></ul>\\r\\n        </div>\\r\\n        <div class=\"links\">\\r\\n            <h4>Quicklinks</h4>\\r\\n            <ul><li><a href=\"/about-us.htm\" title=\"About Southampton Data Science Academy | Study Data Science\"><span>About us</span></a></li><li><a href=\"http://www.southampton.ac.uk/wsi/index.page\" title=\"Web Science Institute | Presented by the Web Science Institute at the University of Southampton\" target=\"_blank\"><span>Web Science Institute</span></a></li><li><a href=\"/terms-and-conditions.htm\" title=\"Terms and Conditions | Southampton Data Science Academy\"><span>Terms and conditions</span></a></li><li><a href=\"https://www.southampton.ac.uk/about/governance/policies/privacy-policy.page\" title=\"Privacy policy\" target=\"_blank\"><span>Privacy policy</span></a></li><li><a href=\"/sitemap.htm\" title=\"Sitemap | Southampton Data Science Academy Online Training\"><span>Sitemap</span></a></li></ul>\\r\\n        </div>\\r\\n\\r\\n        <div class=\"logos\">\\r\\n            <ul>\\r\\n\\t<li class=\"southampton\">\\r\\n\\t\\t<a href=\"https://www.southampton.ac.uk/wsi/index.page\" target=\"_blank\">Developed by</a></li>\\r\\n\\t<li class=\"ceg\">\\r\\n\\t\\t<a href=\"http://www.cambridgeeducationgroup.com/\" target=\"_blank\">In collaboration with</a></li>\\r\\n\\t<li class=\"odi\">\\r\\n\\t\\t<a href=\"http://theodi.org/\" target=\"_blank\">Supported by</a></li>\\r\\n</ul>\\r\\n\\r\\n        </div>\\r\\n\\r\\n        <p>\\r\\n\\t<small>&copy;2017 Southampton Global Limited <br />\\r\\n\\tRegistered in England &amp; Wales: 10112318 <br />\\r\\n\\tRegistered Office / Postal Address: Kett House, Station Road, Cambridge, CB1 2JH, United Kingdom</small></p>\\r\\n\\r\\n    </div>   \\r\\n\\r\\n    <div class=\"cookie\">\\r\\n        <div class=\"container\">\\r\\n            <p>\\r\\n\\tThis website uses cookies to offer the best possible experience. By continuing to use the site you are <br /> agreeing to our usage of cookies. <a href=\"/cookies.htm\">Find out more</a> or <a class=\"closeCookie\" href=\"#\">Close</a></p>\\r\\n\\r\\n        </div>\\r\\n    </div> \\r\\n</footer>\\r\\n        \\r\\n        \\r\\n\\r\\n\\r\\n\\r\\n<!-- Start of Async HubSpot Analytics Code -->\\r\\n  <script type=\"text/javascript\">\\r\\n      (function (d, s, i, r) {\\r\\n          if (d.getElementById(i)) { return; }\\r\\n          var n = d.createElement(s), e = d.getElementsByTagName(s)[0];\\r\\n          n.id = i; n.src = \\'//js.hs-analytics.net/analytics/\\' + (Math.ceil(new Date() / r) * r) + \\'/4159961.js\\';\\r\\n          e.parentNode.insertBefore(n, e);\\r\\n      })(document, \"script\", \"hs-analytics\", 300000);\\r\\n  </script>\\r\\n<!-- End of Async HubSpot Analytics Code -->\\r\\n    \\r\\n<div class=\"aspNetHidden\">\\r\\n\\r\\n\\t<input type=\"hidden\" name=\"__VIEWSTATEGENERATOR\" id=\"__VIEWSTATEGENERATOR\" value=\"90059987\" />\\r\\n</div></form>\\r\\n\\r\\n    <!-- Start of HubSpot Embed Code -->\\r\\n    <script type=\"text/javascript\" id=\"hs-script-loader\" async defer src=\"//js.hs-scripts.com/4159961.js\"></script>\\r\\n    <!-- End of HubSpot Embed Code -->\\r\\n\\r\\n</body>\\r\\n</html>'"
      ]
     },
     "execution_count": 3,
     "metadata": {},
     "output_type": "execute_result"
    }
   ],
   "source": [
    "# You don't need to write anything here\n",
    "import requests\n",
    "r = requests.get('http://southamptondata.science')\n",
    "r.status_code\n",
    "r.text"
   ]
  },
  {
   "cell_type": "markdown",
   "metadata": {},
   "source": [
    "This produces a `Response` object.  It has many different properties, but the important ones for our purposes are:\n",
    "- `r.text` The text of the body of the response, in this case the HTML of the Web page.\n",
    "- `r.status_code` An integer which represents the success of the request.  For example, `200` means sucess and `404` means page not found.  See the full list of status codes on [Wikipedia](https://en.wikipedia.org/wiki/List_of_HTTP_status_codes)\n",
    "\n",
    "It is not only HTML that the `requests` library can accept, but it can make any HTTP request.  Notably, there is a `.json()` function which will give the JSON associated with any request.  \n",
    "\n",
    "We can also add more detail to the request by adding further parameters to the request.  You can add a `params=` and `headers=` parameter, which allow you to edit the parameters and headers respectively.  Check out the [Quickstart](http://docs.python-requests.org/en/master/user/quickstart/) and [Advanced Usage](http://docs.python-requests.org/en/master/user/advanced/) for some examples of more of the things you can do.\n",
    "\n",
    "\n",
    "Write your own request to go to the [GitHub homepage](https://github.com). Using the `robots.txt` file which Huw discussed in one of his videos manually check whether you are allowed to visit the github site according to the `robots.txt` file, generate the request, and then inspect the response that you get.\n",
    "\n",
    "You can use the function `vars` to give details of any Python object, taking the variable as a parameter, or you can get individual fields from the response such as `status_code`, `content` or `headers`."
   ]
  },
  {
   "cell_type": "code",
   "execution_count": 4,
   "metadata": {
    "collapsed": false,
    "scrolled": true
   },
   "outputs": [
    {
     "data": {
      "text/plain": [
       "{'Status': '200 OK', 'Date': 'Thu, 31 Oct 2019 16:55:54 GMT', 'Content-Encoding': 'gzip', 'Cache-Control': 'max-age=0, private, must-revalidate', 'X-Frame-Options': 'deny', 'X-Content-Type-Options': 'nosniff', 'Transfer-Encoding': 'chunked', 'Vary': 'X-PJAX, Accept-Encoding', 'X-XSS-Protection': '1; mode=block', 'X-Request-Id': '3bfc3c7f-6990-4168-81f9-5dc9a9143629', 'Strict-Transport-Security': 'max-age=31536000; includeSubdomains; preload', 'Content-Type': 'text/html; charset=utf-8', 'Content-Security-Policy': \"default-src 'none'; base-uri 'self'; block-all-mixed-content; connect-src 'self' uploads.github.com www.githubstatus.com collector.githubapp.com api.github.com www.google-analytics.com github-cloud.s3.amazonaws.com github-production-repository-file-5c1aeb.s3.amazonaws.com github-production-upload-manifest-file-7fdce7.s3.amazonaws.com github-production-user-asset-6210df.s3.amazonaws.com wss://live.github.com; font-src github.githubassets.com; form-action 'self' github.com gist.github.com; frame-ancestors 'none'; frame-src render.githubusercontent.com; img-src 'self' data: github.githubassets.com identicons.github.com collector.githubapp.com github-cloud.s3.amazonaws.com *.githubusercontent.com customer-stories-feed.github.com; manifest-src 'self'; media-src 'none'; script-src github.githubassets.com; style-src 'unsafe-inline' github.githubassets.com\", 'X-GitHub-Request-Id': 'C2EC:5997:133AC0:1CF96F:5DBB121A', 'Set-Cookie': 'has_recent_activity=1; path=/; expires=Thu, 31 Oct 2019 17:55:54 -0000, _octo=GH1.1.2048127434.1572540954; domain=.github.com; path=/; expires=Sun, 31 Oct 2021 16:55:54 -0000, logged_in=no; domain=.github.com; path=/; expires=Mon, 31 Oct 2039 16:55:54 -0000; secure; HttpOnly, _gh_sess=UzJINGp5WnFOck9DaGpvY2htRWt5V0JSUWxiazI2OHYxcytZY0ZqWVp2eldvelg4ZVhsK2gvV3doUmdsdTEzQlczZGRnUm54NWY5aGI2RnNjUzg5TjJrUEZqNW5Ca09QdFk4R0NtSU45a1VEUis4R1F5SE1YeCtML0xDRkxpRlhVa1JYVm43MzBGYjJWeU5VR24xbHZnPT0tLXdWak94dE4xQ1NJOVdMY0lrS2xINlE9PQ%3D%3D--a36afdc73fed962b03ae401b632f27a5ed19ac6b; path=/; secure; HttpOnly', 'ETag': 'W/\"adee80634816fb664cb8662cd5f900da\"', 'Expect-CT': 'max-age=2592000, report-uri=\"https://api.github.com/_private/browser/errors\"', 'Referrer-Policy': 'origin-when-cross-origin, strict-origin-when-cross-origin', 'Server': 'GitHub.com'}"
      ]
     },
     "execution_count": 4,
     "metadata": {},
     "output_type": "execute_result"
    }
   ],
   "source": [
    "# YOUR CODE HERE\n",
    "r = requests.get('https://github.com')\n",
    "#r.content\n",
    "r.headers\n",
    "#r.status_code\n"
   ]
  },
  {
   "cell_type": "markdown",
   "metadata": {},
   "source": [
    "An [HTTP header](https://en.wikipedia.org/wiki/List_of_HTTP_header_fields) is part of the HTTP protocol, which define the way in which a particular HTTP session will work.  For example, a client could declare itself to be a certain type of browser by using the `User-Agent` header, and this was previously used by servers as a means of deciding how to serve particular content, which has a [long and complex history](http://webaim.org/blog/user-agent-string-history/) (interesting reading).\n",
    "\n",
    "Look at how the Python requests library declares itself, and in the cell below try and change some of the headers in the request, using the `headers` parameter to the request."
   ]
  },
  {
   "cell_type": "code",
   "execution_count": 5,
   "metadata": {
    "collapsed": false
   },
   "outputs": [
    {
     "name": "stdout",
     "output_type": "stream",
     "text": [
      "{'Accept-Encoding': 'gzip, deflate', 'User-Agent': 'python-requests/2.11.1', 'Connection': 'keep-alive', 'Accept': '*/*'}\n"
     ]
    }
   ],
   "source": [
    "# headers={'User-Agent': 'New '}\n",
    "r = requests.get('http://178.62.90.232/')\n",
    "print(r.request.headers)\n"
   ]
  },
  {
   "cell_type": "code",
   "execution_count": 6,
   "metadata": {
    "collapsed": false
   },
   "outputs": [
    {
     "name": "stdout",
     "output_type": "stream",
     "text": [
      "{'Accept-Encoding': 'gzip, deflate', 'User-Agent': 'Mozilla/5.0 (Android 4.4; Tablet; rv:41.0) Gecko/41.0 Firefox/41.0', 'Connection': 'keep-alive', 'Accept': '*/*'}\n"
     ]
    }
   ],
   "source": [
    "# YOUR CODE HERE\n",
    "# An example of how to modify a header so that the scraper is disguised as a Firefox browser\n",
    "\n",
    "r = requests.get('http://178.62.90.232', \n",
    "                 headers={'User-Agent': 'Mozilla/5.0 (Android 4.4; Tablet; rv:41.0) Gecko/41.0 Firefox/41.0'})\n",
    "print(r.request.headers)"
   ]
  },
  {
   "cell_type": "markdown",
   "metadata": {},
   "source": [
    "### Robots.txt\n",
    "\n",
    "To check whether you are allowed to access Web pages using a scraper, make sure you check **`robots.txt`**.  Python has a class called [`RobotFileParser`](https://docs.python.org/3.0/library/urllib.robotparser.html) which does exactly this.  It is quite simple to use, and lets you know whether you can read the page.\n",
    "\n",
    "Look at the documentation and check whether you can read different parts of the [BBC](http://www.bbc.co.uk) website."
   ]
  },
  {
   "cell_type": "code",
   "execution_count": 11,
   "metadata": {
    "collapsed": false
   },
   "outputs": [
    {
     "data": {
      "text/plain": [
       "True"
      ]
     },
     "execution_count": 11,
     "metadata": {},
     "output_type": "execute_result"
    }
   ],
   "source": [
    "# You don't need to write anything here\n",
    "from urllib.robotparser import RobotFileParser\n",
    "rp = RobotFileParser()\n",
    "rp.set_url('http://bbc.co.uk/robots.txt')\n",
    "rp.read()\n",
    "rp.can_fetch(\"*\", 'http://138.68.148.20/west_midlands/cannock_chase')"
   ]
  },
  {
   "cell_type": "markdown",
   "metadata": {},
   "source": [
    "## Parsing HTML\n",
    "\n",
    "To parse the HTML, we will use the [Beautiful Soup](https://www.crummy.com/software/BeautifulSoup/bs4/doc/) library.  This uses a class `BeautifulSoup` which accepts a string as a parameter (the HTML) and allows us to search through it.  You can look through the documentation at the link for more of the details, but the basic important parts of it can be seen in the next cell:\n",
    "\n",
    "N.B. This uses version 4 of Beautiful Soup.  The previous version did not require you to specify a parser as one of the parameters, whereas **this version does**.  For the second parameter, if the text is **HTML** you should use **'lxml'**, and for **XML** you should use **'xml'**.\n",
    "\n"
   ]
  },
  {
   "cell_type": "code",
   "execution_count": 8,
   "metadata": {
    "collapsed": false
   },
   "outputs": [
    {
     "name": "stdout",
     "output_type": "stream",
     "text": [
      "<table>\n",
      "<tr>\n",
      "<th>Table heading cell</th><th>Another heading</th>\n",
      "</tr>\n",
      "<tr>\n",
      "<td>Normal table cell</td><td>This cell has a link going <a href=\"#\">Somewhere</a></td>\n",
      "</tr>\n",
      "</table>\n",
      "\n",
      "Table heading cellAnother heading\n",
      "\n",
      "\n",
      "Normal table cellThis cell has a link going Somewhere\n",
      "\n",
      "link texts Somewhere\n",
      "link texts Somewhere\n",
      "\n",
      "\n",
      "<table>\n",
      "<tr>\n",
      "<th>Table 2</th><th>A second heading</th>\n",
      "</tr>\n",
      "<tr>\n",
      "<td>Cool content</td><td>This cell has a link going <a href=\"#\">Somewhere</a></td>\n",
      "</tr>\n",
      "</table>\n",
      "\n",
      "this is some text between tds\n",
      "Cool content\n",
      "This cell has a link going Somewhere\n"
     ]
    },
    {
     "data": {
      "text/plain": [
       "'utf-8'"
      ]
     },
     "execution_count": 8,
     "metadata": {},
     "output_type": "execute_result"
    }
   ],
   "source": [
    "# N.B. Make sure you have run the code in the first code cell with the HTML in it before doing this next bit.  \n",
    "# The code here relies on the `html` variable.\n",
    "\n",
    "# You don't need to write anything here\n",
    "from bs4 import BeautifulSoup\n",
    "\n",
    "# Generate the BeautifulSoup instance, and make use of the LXML parser\n",
    "soup = BeautifulSoup(html, 'lxml')\n",
    "\n",
    "# Find the first instance of the <table> element\n",
    "table = soup.find('table')\n",
    "print(table)\n",
    "\n",
    "\n",
    "# Find all instances of <tr> within the <table> element we just found\n",
    "# We could do that from any point in the HTML tree.\n",
    "rows = table.find_all('tr')\n",
    "for r in rows:\n",
    "    print(r.text)\n",
    "\n",
    "links = soup.find_all('a')\n",
    "for l in links:\n",
    "    print('link texts', l.text)\n",
    "\n",
    "print('\\n')\n",
    "\n",
    "\n",
    "# Find a table in the element with ID another_div\n",
    "table = soup.find(id='another_div').find('table')\n",
    "print(table)\n",
    "\n",
    "print('\\nthis is some text between tds')\n",
    "cols = table.find_all('td')\n",
    "for r in cols:\n",
    "    print(r.text)\n",
    "\n",
    "\n",
    "# Get the value of an attribute\n",
    "soup.find('meta')['charset']"
   ]
  },
  {
   "cell_type": "markdown",
   "metadata": {},
   "source": [
    "In general, the `.find()` method will give a `Tag` object, with all the properties of a HTML tag which can be explored, and the `find_all()` method will give a list of `Tag` objects (if they exist).\n",
    "\n",
    "Get some HTML from a page, and experiment using this library.  Aim to find the following:\n",
    "- All anchor (i.e., `<a>`) tags\n",
    "- The names of the id and class of the `<div>` tags\n",
    "- The text within some `<td>` tags"
   ]
  },
  {
   "cell_type": "code",
   "execution_count": 9,
   "metadata": {
    "collapsed": false
   },
   "outputs": [
    {
     "name": "stdout",
     "output_type": "stream",
     "text": [
      "[<a href=\"#\">Somewhere</a>, <a href=\"#\">Somewhere</a>]\n",
      "main\n",
      "['classy']\n",
      "another_div\n",
      "['classy']\n",
      "Normal table cell\n",
      "This cell has a link going Somewhere\n",
      "Cool content\n",
      "This cell has a link going Somewhere\n"
     ]
    }
   ],
   "source": [
    "print(soup.find_all('a'))\n",
    "for d in soup.find_all('div'):\n",
    "    print(d['id'])\n",
    "    print(d.attrs['class'])\n",
    "for t in soup.find_all('td'):\n",
    "    print(t.text)"
   ]
  },
  {
   "cell_type": "code",
   "execution_count": null,
   "metadata": {
    "collapsed": true
   },
   "outputs": [],
   "source": []
  }
 ],
 "metadata": {
  "kernelspec": {
   "display_name": "Python 3",
   "language": "python",
   "name": "python3"
  },
  "language_info": {
   "codemirror_mode": {
    "name": "ipython",
    "version": 3
   },
   "file_extension": ".py",
   "mimetype": "text/x-python",
   "name": "python",
   "nbconvert_exporter": "python",
   "pygments_lexer": "ipython3",
   "version": "3.5.2"
  }
 },
 "nbformat": 4,
 "nbformat_minor": 0
}
